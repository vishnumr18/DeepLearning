{
 "cells": [
  {
   "cell_type": "code",
   "execution_count": 1,
   "metadata": {},
   "outputs": [
    {
     "name": "stdout",
     "output_type": "stream",
     "text": [
      "Dataset URL: https://www.kaggle.com/datasets/rjmanoj/credit-card-customer-churn-prediction\n",
      "License(s): unknown\n",
      "Downloading credit-card-customer-churn-prediction.zip to /Users/vishnumr/My Files/Programs/Python/Deep Learning 100/data\n",
      "100%|█████████████████████████████████████████| 262k/262k [00:00<00:00, 270kB/s]\n",
      "100%|█████████████████████████████████████████| 262k/262k [00:00<00:00, 270kB/s]\n"
     ]
    }
   ],
   "source": [
    "# Downloading the dataset\n",
    "!kaggle datasets download -d rjmanoj/credit-card-customer-churn-prediction -p \"/Users/vishnumr/My Files/Programs/Python/Deep Learning 100/data\"\n"
   ]
  },
  {
   "cell_type": "code",
   "execution_count": 2,
   "metadata": {},
   "outputs": [
    {
     "name": "stdout",
     "output_type": "stream",
     "text": [
      "Extracting the zip file...: /Users/vishnumr/My Files/Programs/Python/Deep Learning 100/data/credit-card-customer-churn-prediction.zip\n",
      "Unzip Succesful and zip file /Users/vishnumr/My Files/Programs/Python/Deep Learning 100/data/credit-card-customer-churn-prediction.zip is deteted!!!\n",
      "No Zip files found!!!\n"
     ]
    }
   ],
   "source": [
    "# Unziping the files\n",
    "import os\n",
    "import zipfile\n",
    "\n",
    "data_folder = \"/Users/vishnumr/My Files/Programs/Python/Deep Learning 100/data\"\n",
    "\n",
    "# print(\"Folders:\", os.listdir(data_folder))\n",
    "for folder_name in os.listdir(data_folder):\n",
    "    if folder_name.endswith(\".zip\"):\n",
    "        zip_path = os.path.join(data_folder, folder_name)\n",
    "\n",
    "        try:\n",
    "            print(f\"Extracting the zip file...: {zip_path}\")\n",
    "            with zipfile.ZipFile(zip_path, 'r') as zip_ref:\n",
    "                zip_ref.extractall(data_folder)\n",
    "            \n",
    "            os.remove(zip_path)\n",
    "            print(f\"Unzip Succesful and zip file {zip_path} is deteted!!!\")\n",
    "        except zipfile.BadZipFile:\n",
    "            print(f\"Zip file {zip_path} is curropted\")\n",
    "        except Exception as e:\n",
    "            print(f\"Error occured while porcessing {folder_name}\\n Error:{e}\")\n",
    "else:\n",
    "    print(\"No Zip files found!!!\")"
   ]
  },
  {
   "cell_type": "code",
   "execution_count": 3,
   "metadata": {},
   "outputs": [],
   "source": [
    "# Importing data\n",
    "import pandas as pd\n",
    "import numpy as np\n",
    "df = pd.read_csv('data/Churn_Modelling.csv')"
   ]
  },
  {
   "cell_type": "code",
   "execution_count": 4,
   "metadata": {},
   "outputs": [
    {
     "data": {
      "text/html": [
       "<div>\n",
       "<style scoped>\n",
       "    .dataframe tbody tr th:only-of-type {\n",
       "        vertical-align: middle;\n",
       "    }\n",
       "\n",
       "    .dataframe tbody tr th {\n",
       "        vertical-align: top;\n",
       "    }\n",
       "\n",
       "    .dataframe thead th {\n",
       "        text-align: right;\n",
       "    }\n",
       "</style>\n",
       "<table border=\"1\" class=\"dataframe\">\n",
       "  <thead>\n",
       "    <tr style=\"text-align: right;\">\n",
       "      <th></th>\n",
       "      <th>RowNumber</th>\n",
       "      <th>CustomerId</th>\n",
       "      <th>Surname</th>\n",
       "      <th>CreditScore</th>\n",
       "      <th>Geography</th>\n",
       "      <th>Gender</th>\n",
       "      <th>Age</th>\n",
       "      <th>Tenure</th>\n",
       "      <th>Balance</th>\n",
       "      <th>NumOfProducts</th>\n",
       "      <th>HasCrCard</th>\n",
       "      <th>IsActiveMember</th>\n",
       "      <th>EstimatedSalary</th>\n",
       "      <th>Exited</th>\n",
       "    </tr>\n",
       "  </thead>\n",
       "  <tbody>\n",
       "    <tr>\n",
       "      <th>0</th>\n",
       "      <td>1</td>\n",
       "      <td>15634602</td>\n",
       "      <td>Hargrave</td>\n",
       "      <td>619</td>\n",
       "      <td>France</td>\n",
       "      <td>Female</td>\n",
       "      <td>42</td>\n",
       "      <td>2</td>\n",
       "      <td>0.00</td>\n",
       "      <td>1</td>\n",
       "      <td>1</td>\n",
       "      <td>1</td>\n",
       "      <td>101348.88</td>\n",
       "      <td>1</td>\n",
       "    </tr>\n",
       "    <tr>\n",
       "      <th>1</th>\n",
       "      <td>2</td>\n",
       "      <td>15647311</td>\n",
       "      <td>Hill</td>\n",
       "      <td>608</td>\n",
       "      <td>Spain</td>\n",
       "      <td>Female</td>\n",
       "      <td>41</td>\n",
       "      <td>1</td>\n",
       "      <td>83807.86</td>\n",
       "      <td>1</td>\n",
       "      <td>0</td>\n",
       "      <td>1</td>\n",
       "      <td>112542.58</td>\n",
       "      <td>0</td>\n",
       "    </tr>\n",
       "    <tr>\n",
       "      <th>2</th>\n",
       "      <td>3</td>\n",
       "      <td>15619304</td>\n",
       "      <td>Onio</td>\n",
       "      <td>502</td>\n",
       "      <td>France</td>\n",
       "      <td>Female</td>\n",
       "      <td>42</td>\n",
       "      <td>8</td>\n",
       "      <td>159660.80</td>\n",
       "      <td>3</td>\n",
       "      <td>1</td>\n",
       "      <td>0</td>\n",
       "      <td>113931.57</td>\n",
       "      <td>1</td>\n",
       "    </tr>\n",
       "    <tr>\n",
       "      <th>3</th>\n",
       "      <td>4</td>\n",
       "      <td>15701354</td>\n",
       "      <td>Boni</td>\n",
       "      <td>699</td>\n",
       "      <td>France</td>\n",
       "      <td>Female</td>\n",
       "      <td>39</td>\n",
       "      <td>1</td>\n",
       "      <td>0.00</td>\n",
       "      <td>2</td>\n",
       "      <td>0</td>\n",
       "      <td>0</td>\n",
       "      <td>93826.63</td>\n",
       "      <td>0</td>\n",
       "    </tr>\n",
       "    <tr>\n",
       "      <th>4</th>\n",
       "      <td>5</td>\n",
       "      <td>15737888</td>\n",
       "      <td>Mitchell</td>\n",
       "      <td>850</td>\n",
       "      <td>Spain</td>\n",
       "      <td>Female</td>\n",
       "      <td>43</td>\n",
       "      <td>2</td>\n",
       "      <td>125510.82</td>\n",
       "      <td>1</td>\n",
       "      <td>1</td>\n",
       "      <td>1</td>\n",
       "      <td>79084.10</td>\n",
       "      <td>0</td>\n",
       "    </tr>\n",
       "  </tbody>\n",
       "</table>\n",
       "</div>"
      ],
      "text/plain": [
       "   RowNumber  CustomerId   Surname  CreditScore Geography  Gender  Age  \\\n",
       "0          1    15634602  Hargrave          619    France  Female   42   \n",
       "1          2    15647311      Hill          608     Spain  Female   41   \n",
       "2          3    15619304      Onio          502    France  Female   42   \n",
       "3          4    15701354      Boni          699    France  Female   39   \n",
       "4          5    15737888  Mitchell          850     Spain  Female   43   \n",
       "\n",
       "   Tenure    Balance  NumOfProducts  HasCrCard  IsActiveMember  \\\n",
       "0       2       0.00              1          1               1   \n",
       "1       1   83807.86              1          0               1   \n",
       "2       8  159660.80              3          1               0   \n",
       "3       1       0.00              2          0               0   \n",
       "4       2  125510.82              1          1               1   \n",
       "\n",
       "   EstimatedSalary  Exited  \n",
       "0        101348.88       1  \n",
       "1        112542.58       0  \n",
       "2        113931.57       1  \n",
       "3         93826.63       0  \n",
       "4         79084.10       0  "
      ]
     },
     "execution_count": 4,
     "metadata": {},
     "output_type": "execute_result"
    }
   ],
   "source": [
    "df.head()"
   ]
  },
  {
   "cell_type": "code",
   "execution_count": 5,
   "metadata": {},
   "outputs": [
    {
     "data": {
      "text/plain": [
       "(10000, 14)"
      ]
     },
     "execution_count": 5,
     "metadata": {},
     "output_type": "execute_result"
    }
   ],
   "source": [
    "df.shape"
   ]
  },
  {
   "cell_type": "code",
   "execution_count": 6,
   "metadata": {},
   "outputs": [
    {
     "name": "stdout",
     "output_type": "stream",
     "text": [
      "<class 'pandas.core.frame.DataFrame'>\n",
      "RangeIndex: 10000 entries, 0 to 9999\n",
      "Data columns (total 14 columns):\n",
      " #   Column           Non-Null Count  Dtype  \n",
      "---  ------           --------------  -----  \n",
      " 0   RowNumber        10000 non-null  int64  \n",
      " 1   CustomerId       10000 non-null  int64  \n",
      " 2   Surname          10000 non-null  object \n",
      " 3   CreditScore      10000 non-null  int64  \n",
      " 4   Geography        10000 non-null  object \n",
      " 5   Gender           10000 non-null  object \n",
      " 6   Age              10000 non-null  int64  \n",
      " 7   Tenure           10000 non-null  int64  \n",
      " 8   Balance          10000 non-null  float64\n",
      " 9   NumOfProducts    10000 non-null  int64  \n",
      " 10  HasCrCard        10000 non-null  int64  \n",
      " 11  IsActiveMember   10000 non-null  int64  \n",
      " 12  EstimatedSalary  10000 non-null  float64\n",
      " 13  Exited           10000 non-null  int64  \n",
      "dtypes: float64(2), int64(9), object(3)\n",
      "memory usage: 1.1+ MB\n"
     ]
    }
   ],
   "source": [
    "df.info()"
   ]
  },
  {
   "cell_type": "code",
   "execution_count": 7,
   "metadata": {},
   "outputs": [
    {
     "data": {
      "text/plain": [
       "np.int64(0)"
      ]
     },
     "execution_count": 7,
     "metadata": {},
     "output_type": "execute_result"
    }
   ],
   "source": [
    "df.duplicated().sum()"
   ]
  },
  {
   "cell_type": "code",
   "execution_count": 8,
   "metadata": {},
   "outputs": [
    {
     "data": {
      "text/plain": [
       "Exited\n",
       "0    7963\n",
       "1    2037\n",
       "Name: count, dtype: int64"
      ]
     },
     "execution_count": 8,
     "metadata": {},
     "output_type": "execute_result"
    }
   ],
   "source": [
    "df['Exited'].value_counts()"
   ]
  },
  {
   "cell_type": "code",
   "execution_count": 9,
   "metadata": {},
   "outputs": [
    {
     "data": {
      "text/plain": [
       "Geography\n",
       "France     5014\n",
       "Germany    2509\n",
       "Spain      2477\n",
       "Name: count, dtype: int64"
      ]
     },
     "execution_count": 9,
     "metadata": {},
     "output_type": "execute_result"
    }
   ],
   "source": [
    "df['Geography'].value_counts()"
   ]
  },
  {
   "cell_type": "code",
   "execution_count": 10,
   "metadata": {},
   "outputs": [
    {
     "data": {
      "text/plain": [
       "Gender\n",
       "Male      5457\n",
       "Female    4543\n",
       "Name: count, dtype: int64"
      ]
     },
     "execution_count": 10,
     "metadata": {},
     "output_type": "execute_result"
    }
   ],
   "source": [
    "df['Gender'].value_counts()"
   ]
  },
  {
   "cell_type": "code",
   "execution_count": 11,
   "metadata": {},
   "outputs": [],
   "source": [
    "df.drop(columns=['RowNumber','CustomerId', 'Surname'], inplace=True)"
   ]
  },
  {
   "cell_type": "code",
   "execution_count": 12,
   "metadata": {},
   "outputs": [
    {
     "data": {
      "text/html": [
       "<div>\n",
       "<style scoped>\n",
       "    .dataframe tbody tr th:only-of-type {\n",
       "        vertical-align: middle;\n",
       "    }\n",
       "\n",
       "    .dataframe tbody tr th {\n",
       "        vertical-align: top;\n",
       "    }\n",
       "\n",
       "    .dataframe thead th {\n",
       "        text-align: right;\n",
       "    }\n",
       "</style>\n",
       "<table border=\"1\" class=\"dataframe\">\n",
       "  <thead>\n",
       "    <tr style=\"text-align: right;\">\n",
       "      <th></th>\n",
       "      <th>CreditScore</th>\n",
       "      <th>Geography</th>\n",
       "      <th>Gender</th>\n",
       "      <th>Age</th>\n",
       "      <th>Tenure</th>\n",
       "      <th>Balance</th>\n",
       "      <th>NumOfProducts</th>\n",
       "      <th>HasCrCard</th>\n",
       "      <th>IsActiveMember</th>\n",
       "      <th>EstimatedSalary</th>\n",
       "      <th>Exited</th>\n",
       "    </tr>\n",
       "  </thead>\n",
       "  <tbody>\n",
       "    <tr>\n",
       "      <th>0</th>\n",
       "      <td>619</td>\n",
       "      <td>France</td>\n",
       "      <td>Female</td>\n",
       "      <td>42</td>\n",
       "      <td>2</td>\n",
       "      <td>0.00</td>\n",
       "      <td>1</td>\n",
       "      <td>1</td>\n",
       "      <td>1</td>\n",
       "      <td>101348.88</td>\n",
       "      <td>1</td>\n",
       "    </tr>\n",
       "    <tr>\n",
       "      <th>1</th>\n",
       "      <td>608</td>\n",
       "      <td>Spain</td>\n",
       "      <td>Female</td>\n",
       "      <td>41</td>\n",
       "      <td>1</td>\n",
       "      <td>83807.86</td>\n",
       "      <td>1</td>\n",
       "      <td>0</td>\n",
       "      <td>1</td>\n",
       "      <td>112542.58</td>\n",
       "      <td>0</td>\n",
       "    </tr>\n",
       "    <tr>\n",
       "      <th>2</th>\n",
       "      <td>502</td>\n",
       "      <td>France</td>\n",
       "      <td>Female</td>\n",
       "      <td>42</td>\n",
       "      <td>8</td>\n",
       "      <td>159660.80</td>\n",
       "      <td>3</td>\n",
       "      <td>1</td>\n",
       "      <td>0</td>\n",
       "      <td>113931.57</td>\n",
       "      <td>1</td>\n",
       "    </tr>\n",
       "    <tr>\n",
       "      <th>3</th>\n",
       "      <td>699</td>\n",
       "      <td>France</td>\n",
       "      <td>Female</td>\n",
       "      <td>39</td>\n",
       "      <td>1</td>\n",
       "      <td>0.00</td>\n",
       "      <td>2</td>\n",
       "      <td>0</td>\n",
       "      <td>0</td>\n",
       "      <td>93826.63</td>\n",
       "      <td>0</td>\n",
       "    </tr>\n",
       "    <tr>\n",
       "      <th>4</th>\n",
       "      <td>850</td>\n",
       "      <td>Spain</td>\n",
       "      <td>Female</td>\n",
       "      <td>43</td>\n",
       "      <td>2</td>\n",
       "      <td>125510.82</td>\n",
       "      <td>1</td>\n",
       "      <td>1</td>\n",
       "      <td>1</td>\n",
       "      <td>79084.10</td>\n",
       "      <td>0</td>\n",
       "    </tr>\n",
       "  </tbody>\n",
       "</table>\n",
       "</div>"
      ],
      "text/plain": [
       "   CreditScore Geography  Gender  Age  Tenure    Balance  NumOfProducts  \\\n",
       "0          619    France  Female   42       2       0.00              1   \n",
       "1          608     Spain  Female   41       1   83807.86              1   \n",
       "2          502    France  Female   42       8  159660.80              3   \n",
       "3          699    France  Female   39       1       0.00              2   \n",
       "4          850     Spain  Female   43       2  125510.82              1   \n",
       "\n",
       "   HasCrCard  IsActiveMember  EstimatedSalary  Exited  \n",
       "0          1               1        101348.88       1  \n",
       "1          0               1        112542.58       0  \n",
       "2          1               0        113931.57       1  \n",
       "3          0               0         93826.63       0  \n",
       "4          1               1         79084.10       0  "
      ]
     },
     "execution_count": 12,
     "metadata": {},
     "output_type": "execute_result"
    }
   ],
   "source": [
    "df.head()"
   ]
  },
  {
   "cell_type": "code",
   "execution_count": 13,
   "metadata": {},
   "outputs": [],
   "source": [
    "df = pd.get_dummies(df, columns=['Geography', 'Gender'], drop_first=True)"
   ]
  },
  {
   "cell_type": "code",
   "execution_count": 14,
   "metadata": {},
   "outputs": [
    {
     "data": {
      "text/html": [
       "<div>\n",
       "<style scoped>\n",
       "    .dataframe tbody tr th:only-of-type {\n",
       "        vertical-align: middle;\n",
       "    }\n",
       "\n",
       "    .dataframe tbody tr th {\n",
       "        vertical-align: top;\n",
       "    }\n",
       "\n",
       "    .dataframe thead th {\n",
       "        text-align: right;\n",
       "    }\n",
       "</style>\n",
       "<table border=\"1\" class=\"dataframe\">\n",
       "  <thead>\n",
       "    <tr style=\"text-align: right;\">\n",
       "      <th></th>\n",
       "      <th>CreditScore</th>\n",
       "      <th>Age</th>\n",
       "      <th>Tenure</th>\n",
       "      <th>Balance</th>\n",
       "      <th>NumOfProducts</th>\n",
       "      <th>HasCrCard</th>\n",
       "      <th>IsActiveMember</th>\n",
       "      <th>EstimatedSalary</th>\n",
       "      <th>Exited</th>\n",
       "      <th>Geography_Germany</th>\n",
       "      <th>Geography_Spain</th>\n",
       "      <th>Gender_Male</th>\n",
       "    </tr>\n",
       "  </thead>\n",
       "  <tbody>\n",
       "    <tr>\n",
       "      <th>0</th>\n",
       "      <td>619</td>\n",
       "      <td>42</td>\n",
       "      <td>2</td>\n",
       "      <td>0.00</td>\n",
       "      <td>1</td>\n",
       "      <td>1</td>\n",
       "      <td>1</td>\n",
       "      <td>101348.88</td>\n",
       "      <td>1</td>\n",
       "      <td>False</td>\n",
       "      <td>False</td>\n",
       "      <td>False</td>\n",
       "    </tr>\n",
       "    <tr>\n",
       "      <th>1</th>\n",
       "      <td>608</td>\n",
       "      <td>41</td>\n",
       "      <td>1</td>\n",
       "      <td>83807.86</td>\n",
       "      <td>1</td>\n",
       "      <td>0</td>\n",
       "      <td>1</td>\n",
       "      <td>112542.58</td>\n",
       "      <td>0</td>\n",
       "      <td>False</td>\n",
       "      <td>True</td>\n",
       "      <td>False</td>\n",
       "    </tr>\n",
       "    <tr>\n",
       "      <th>2</th>\n",
       "      <td>502</td>\n",
       "      <td>42</td>\n",
       "      <td>8</td>\n",
       "      <td>159660.80</td>\n",
       "      <td>3</td>\n",
       "      <td>1</td>\n",
       "      <td>0</td>\n",
       "      <td>113931.57</td>\n",
       "      <td>1</td>\n",
       "      <td>False</td>\n",
       "      <td>False</td>\n",
       "      <td>False</td>\n",
       "    </tr>\n",
       "    <tr>\n",
       "      <th>3</th>\n",
       "      <td>699</td>\n",
       "      <td>39</td>\n",
       "      <td>1</td>\n",
       "      <td>0.00</td>\n",
       "      <td>2</td>\n",
       "      <td>0</td>\n",
       "      <td>0</td>\n",
       "      <td>93826.63</td>\n",
       "      <td>0</td>\n",
       "      <td>False</td>\n",
       "      <td>False</td>\n",
       "      <td>False</td>\n",
       "    </tr>\n",
       "    <tr>\n",
       "      <th>4</th>\n",
       "      <td>850</td>\n",
       "      <td>43</td>\n",
       "      <td>2</td>\n",
       "      <td>125510.82</td>\n",
       "      <td>1</td>\n",
       "      <td>1</td>\n",
       "      <td>1</td>\n",
       "      <td>79084.10</td>\n",
       "      <td>0</td>\n",
       "      <td>False</td>\n",
       "      <td>True</td>\n",
       "      <td>False</td>\n",
       "    </tr>\n",
       "  </tbody>\n",
       "</table>\n",
       "</div>"
      ],
      "text/plain": [
       "   CreditScore  Age  Tenure    Balance  NumOfProducts  HasCrCard  \\\n",
       "0          619   42       2       0.00              1          1   \n",
       "1          608   41       1   83807.86              1          0   \n",
       "2          502   42       8  159660.80              3          1   \n",
       "3          699   39       1       0.00              2          0   \n",
       "4          850   43       2  125510.82              1          1   \n",
       "\n",
       "   IsActiveMember  EstimatedSalary  Exited  Geography_Germany  \\\n",
       "0               1        101348.88       1              False   \n",
       "1               1        112542.58       0              False   \n",
       "2               0        113931.57       1              False   \n",
       "3               0         93826.63       0              False   \n",
       "4               1         79084.10       0              False   \n",
       "\n",
       "   Geography_Spain  Gender_Male  \n",
       "0            False        False  \n",
       "1             True        False  \n",
       "2            False        False  \n",
       "3            False        False  \n",
       "4             True        False  "
      ]
     },
     "execution_count": 14,
     "metadata": {},
     "output_type": "execute_result"
    }
   ],
   "source": [
    "df.head()"
   ]
  },
  {
   "cell_type": "code",
   "execution_count": 15,
   "metadata": {},
   "outputs": [],
   "source": [
    "# Splitting the data into train and test split\n",
    "from sklearn.model_selection import train_test_split\n",
    "\n",
    "X = df.drop(columns=['Exited'])\n",
    "y = df['Exited']\n",
    "\n",
    "X_train, X_test, y_train, y_test = train_test_split(X, y, test_size=.2, random_state=1)"
   ]
  },
  {
   "cell_type": "code",
   "execution_count": 16,
   "metadata": {},
   "outputs": [
    {
     "data": {
      "text/plain": [
       "((8000, 11), (2000, 11))"
      ]
     },
     "execution_count": 16,
     "metadata": {},
     "output_type": "execute_result"
    }
   ],
   "source": [
    "X_train.shape, X_test.shape"
   ]
  },
  {
   "cell_type": "code",
   "execution_count": 17,
   "metadata": {},
   "outputs": [
    {
     "data": {
      "text/plain": [
       "((8000,), (2000,))"
      ]
     },
     "execution_count": 17,
     "metadata": {},
     "output_type": "execute_result"
    }
   ],
   "source": [
    "y_train.shape, y_test.shape"
   ]
  },
  {
   "cell_type": "code",
   "execution_count": 18,
   "metadata": {},
   "outputs": [],
   "source": [
    "# Scalling the data to generalizing the model\n",
    "from sklearn.preprocessing import StandardScaler\n",
    "scaler = StandardScaler()\n",
    "\n",
    "X_train_scaler = scaler.fit_transform(X_train)\n",
    "X_test_scalar = scaler.transform(X_test)"
   ]
  },
  {
   "cell_type": "code",
   "execution_count": 19,
   "metadata": {},
   "outputs": [
    {
     "data": {
      "text/plain": [
       "array([[-0.23082038, -0.94449979, -0.70174202, ...,  1.71490137,\n",
       "        -0.57273139,  0.91509065],\n",
       "       [-0.25150912, -0.94449979, -0.35520275, ..., -0.58312392,\n",
       "        -0.57273139, -1.09278791],\n",
       "       [-0.3963303 ,  0.77498705,  0.33787579, ...,  1.71490137,\n",
       "        -0.57273139, -1.09278791],\n",
       "       ...,\n",
       "       [ 0.22433188,  0.58393295,  1.3774936 , ..., -0.58312392,\n",
       "        -0.57273139, -1.09278791],\n",
       "       [ 0.13123255,  0.01077067,  1.03095433, ..., -0.58312392,\n",
       "        -0.57273139, -1.09278791],\n",
       "       [ 1.1656695 ,  0.29735181,  0.33787579, ...,  1.71490137,\n",
       "        -0.57273139,  0.91509065]])"
      ]
     },
     "execution_count": 19,
     "metadata": {},
     "output_type": "execute_result"
    }
   ],
   "source": [
    "X_train_scaler"
   ]
  },
  {
   "cell_type": "code",
   "execution_count": 20,
   "metadata": {},
   "outputs": [],
   "source": [
    "import tensorflow\n",
    "from tensorflow import keras\n",
    "from tensorflow.keras import Sequential\n",
    "from tensorflow.keras.layers import Dense"
   ]
  },
  {
   "cell_type": "code",
   "execution_count": 21,
   "metadata": {},
   "outputs": [
    {
     "name": "stderr",
     "output_type": "stream",
     "text": [
      "/Users/vishnumr/My Files/Programs/Python/Deep Learning 100/venv/lib/python3.11/site-packages/keras/src/layers/core/dense.py:87: UserWarning: Do not pass an `input_shape`/`input_dim` argument to a layer. When using Sequential models, prefer using an `Input(shape)` object as the first layer in the model instead.\n",
      "  super().__init__(activity_regularizer=activity_regularizer, **kwargs)\n"
     ]
    }
   ],
   "source": [
    "model = Sequential()\n",
    "\n",
    "# Creating a neural network with 3 layers\n",
    "model.add(Dense(11, activation='relu', input_dim=11))\n",
    "model.add(Dense(11, activation='relu'))\n",
    "model.add(Dense(1, activation='sigmoid'))"
   ]
  },
  {
   "cell_type": "code",
   "execution_count": 22,
   "metadata": {},
   "outputs": [
    {
     "data": {
      "text/html": [
       "<pre style=\"white-space:pre;overflow-x:auto;line-height:normal;font-family:Menlo,'DejaVu Sans Mono',consolas,'Courier New',monospace\"><span style=\"font-weight: bold\">Model: \"sequential\"</span>\n",
       "</pre>\n"
      ],
      "text/plain": [
       "\u001b[1mModel: \"sequential\"\u001b[0m\n"
      ]
     },
     "metadata": {},
     "output_type": "display_data"
    },
    {
     "data": {
      "text/html": [
       "<pre style=\"white-space:pre;overflow-x:auto;line-height:normal;font-family:Menlo,'DejaVu Sans Mono',consolas,'Courier New',monospace\">┏━━━━━━━━━━━━━━━━━━━━━━━━━━━━━━━━━┳━━━━━━━━━━━━━━━━━━━━━━━━┳━━━━━━━━━━━━━━━┓\n",
       "┃<span style=\"font-weight: bold\"> Layer (type)                    </span>┃<span style=\"font-weight: bold\"> Output Shape           </span>┃<span style=\"font-weight: bold\">       Param # </span>┃\n",
       "┡━━━━━━━━━━━━━━━━━━━━━━━━━━━━━━━━━╇━━━━━━━━━━━━━━━━━━━━━━━━╇━━━━━━━━━━━━━━━┩\n",
       "│ dense (<span style=\"color: #0087ff; text-decoration-color: #0087ff\">Dense</span>)                   │ (<span style=\"color: #00d7ff; text-decoration-color: #00d7ff\">None</span>, <span style=\"color: #00af00; text-decoration-color: #00af00\">11</span>)             │           <span style=\"color: #00af00; text-decoration-color: #00af00\">132</span> │\n",
       "├─────────────────────────────────┼────────────────────────┼───────────────┤\n",
       "│ dense_1 (<span style=\"color: #0087ff; text-decoration-color: #0087ff\">Dense</span>)                 │ (<span style=\"color: #00d7ff; text-decoration-color: #00d7ff\">None</span>, <span style=\"color: #00af00; text-decoration-color: #00af00\">11</span>)             │           <span style=\"color: #00af00; text-decoration-color: #00af00\">132</span> │\n",
       "├─────────────────────────────────┼────────────────────────┼───────────────┤\n",
       "│ dense_2 (<span style=\"color: #0087ff; text-decoration-color: #0087ff\">Dense</span>)                 │ (<span style=\"color: #00d7ff; text-decoration-color: #00d7ff\">None</span>, <span style=\"color: #00af00; text-decoration-color: #00af00\">1</span>)              │            <span style=\"color: #00af00; text-decoration-color: #00af00\">12</span> │\n",
       "└─────────────────────────────────┴────────────────────────┴───────────────┘\n",
       "</pre>\n"
      ],
      "text/plain": [
       "┏━━━━━━━━━━━━━━━━━━━━━━━━━━━━━━━━━┳━━━━━━━━━━━━━━━━━━━━━━━━┳━━━━━━━━━━━━━━━┓\n",
       "┃\u001b[1m \u001b[0m\u001b[1mLayer (type)                   \u001b[0m\u001b[1m \u001b[0m┃\u001b[1m \u001b[0m\u001b[1mOutput Shape          \u001b[0m\u001b[1m \u001b[0m┃\u001b[1m \u001b[0m\u001b[1m      Param #\u001b[0m\u001b[1m \u001b[0m┃\n",
       "┡━━━━━━━━━━━━━━━━━━━━━━━━━━━━━━━━━╇━━━━━━━━━━━━━━━━━━━━━━━━╇━━━━━━━━━━━━━━━┩\n",
       "│ dense (\u001b[38;5;33mDense\u001b[0m)                   │ (\u001b[38;5;45mNone\u001b[0m, \u001b[38;5;34m11\u001b[0m)             │           \u001b[38;5;34m132\u001b[0m │\n",
       "├─────────────────────────────────┼────────────────────────┼───────────────┤\n",
       "│ dense_1 (\u001b[38;5;33mDense\u001b[0m)                 │ (\u001b[38;5;45mNone\u001b[0m, \u001b[38;5;34m11\u001b[0m)             │           \u001b[38;5;34m132\u001b[0m │\n",
       "├─────────────────────────────────┼────────────────────────┼───────────────┤\n",
       "│ dense_2 (\u001b[38;5;33mDense\u001b[0m)                 │ (\u001b[38;5;45mNone\u001b[0m, \u001b[38;5;34m1\u001b[0m)              │            \u001b[38;5;34m12\u001b[0m │\n",
       "└─────────────────────────────────┴────────────────────────┴───────────────┘\n"
      ]
     },
     "metadata": {},
     "output_type": "display_data"
    },
    {
     "data": {
      "text/html": [
       "<pre style=\"white-space:pre;overflow-x:auto;line-height:normal;font-family:Menlo,'DejaVu Sans Mono',consolas,'Courier New',monospace\"><span style=\"font-weight: bold\"> Total params: </span><span style=\"color: #00af00; text-decoration-color: #00af00\">276</span> (1.08 KB)\n",
       "</pre>\n"
      ],
      "text/plain": [
       "\u001b[1m Total params: \u001b[0m\u001b[38;5;34m276\u001b[0m (1.08 KB)\n"
      ]
     },
     "metadata": {},
     "output_type": "display_data"
    },
    {
     "data": {
      "text/html": [
       "<pre style=\"white-space:pre;overflow-x:auto;line-height:normal;font-family:Menlo,'DejaVu Sans Mono',consolas,'Courier New',monospace\"><span style=\"font-weight: bold\"> Trainable params: </span><span style=\"color: #00af00; text-decoration-color: #00af00\">276</span> (1.08 KB)\n",
       "</pre>\n"
      ],
      "text/plain": [
       "\u001b[1m Trainable params: \u001b[0m\u001b[38;5;34m276\u001b[0m (1.08 KB)\n"
      ]
     },
     "metadata": {},
     "output_type": "display_data"
    },
    {
     "data": {
      "text/html": [
       "<pre style=\"white-space:pre;overflow-x:auto;line-height:normal;font-family:Menlo,'DejaVu Sans Mono',consolas,'Courier New',monospace\"><span style=\"font-weight: bold\"> Non-trainable params: </span><span style=\"color: #00af00; text-decoration-color: #00af00\">0</span> (0.00 B)\n",
       "</pre>\n"
      ],
      "text/plain": [
       "\u001b[1m Non-trainable params: \u001b[0m\u001b[38;5;34m0\u001b[0m (0.00 B)\n"
      ]
     },
     "metadata": {},
     "output_type": "display_data"
    }
   ],
   "source": [
    "model.summary()"
   ]
  },
  {
   "cell_type": "code",
   "execution_count": 23,
   "metadata": {},
   "outputs": [],
   "source": [
    "# Compling the model\n",
    "model.compile(loss='binary_crossentropy', optimizer='Adam', metrics=['accuracy'])"
   ]
  },
  {
   "cell_type": "code",
   "execution_count": 24,
   "metadata": {},
   "outputs": [
    {
     "name": "stdout",
     "output_type": "stream",
     "text": [
      "Epoch 1/100\n",
      "\u001b[1m200/200\u001b[0m \u001b[32m━━━━━━━━━━━━━━━━━━━━\u001b[0m\u001b[37m\u001b[0m \u001b[1m1s\u001b[0m 1ms/step - accuracy: 0.6596 - loss: 0.6171 - val_accuracy: 0.7994 - val_loss: 0.4640\n",
      "Epoch 2/100\n",
      "\u001b[1m200/200\u001b[0m \u001b[32m━━━━━━━━━━━━━━━━━━━━\u001b[0m\u001b[37m\u001b[0m \u001b[1m0s\u001b[0m 787us/step - accuracy: 0.8041 - loss: 0.4579 - val_accuracy: 0.8062 - val_loss: 0.4407\n",
      "Epoch 3/100\n",
      "\u001b[1m200/200\u001b[0m \u001b[32m━━━━━━━━━━━━━━━━━━━━\u001b[0m\u001b[37m\u001b[0m \u001b[1m0s\u001b[0m 751us/step - accuracy: 0.8129 - loss: 0.4354 - val_accuracy: 0.8138 - val_loss: 0.4294\n",
      "Epoch 4/100\n",
      "\u001b[1m200/200\u001b[0m \u001b[32m━━━━━━━━━━━━━━━━━━━━\u001b[0m\u001b[37m\u001b[0m \u001b[1m0s\u001b[0m 972us/step - accuracy: 0.8103 - loss: 0.4336 - val_accuracy: 0.8181 - val_loss: 0.4204\n",
      "Epoch 5/100\n",
      "\u001b[1m200/200\u001b[0m \u001b[32m━━━━━━━━━━━━━━━━━━━━\u001b[0m\u001b[37m\u001b[0m \u001b[1m0s\u001b[0m 738us/step - accuracy: 0.8143 - loss: 0.4196 - val_accuracy: 0.8244 - val_loss: 0.4127\n",
      "Epoch 6/100\n",
      "\u001b[1m200/200\u001b[0m \u001b[32m━━━━━━━━━━━━━━━━━━━━\u001b[0m\u001b[37m\u001b[0m \u001b[1m0s\u001b[0m 734us/step - accuracy: 0.8264 - loss: 0.4133 - val_accuracy: 0.8288 - val_loss: 0.4024\n",
      "Epoch 7/100\n",
      "\u001b[1m200/200\u001b[0m \u001b[32m━━━━━━━━━━━━━━━━━━━━\u001b[0m\u001b[37m\u001b[0m \u001b[1m0s\u001b[0m 731us/step - accuracy: 0.8361 - loss: 0.4020 - val_accuracy: 0.8338 - val_loss: 0.3926\n",
      "Epoch 8/100\n",
      "\u001b[1m200/200\u001b[0m \u001b[32m━━━━━━━━━━━━━━━━━━━━\u001b[0m\u001b[37m\u001b[0m \u001b[1m0s\u001b[0m 727us/step - accuracy: 0.8358 - loss: 0.3923 - val_accuracy: 0.8425 - val_loss: 0.3785\n",
      "Epoch 9/100\n",
      "\u001b[1m200/200\u001b[0m \u001b[32m━━━━━━━━━━━━━━━━━━━━\u001b[0m\u001b[37m\u001b[0m \u001b[1m0s\u001b[0m 760us/step - accuracy: 0.8407 - loss: 0.3875 - val_accuracy: 0.8481 - val_loss: 0.3667\n",
      "Epoch 10/100\n",
      "\u001b[1m200/200\u001b[0m \u001b[32m━━━━━━━━━━━━━━━━━━━━\u001b[0m\u001b[37m\u001b[0m \u001b[1m0s\u001b[0m 746us/step - accuracy: 0.8571 - loss: 0.3573 - val_accuracy: 0.8519 - val_loss: 0.3570\n",
      "Epoch 11/100\n",
      "\u001b[1m200/200\u001b[0m \u001b[32m━━━━━━━━━━━━━━━━━━━━\u001b[0m\u001b[37m\u001b[0m \u001b[1m0s\u001b[0m 725us/step - accuracy: 0.8522 - loss: 0.3551 - val_accuracy: 0.8556 - val_loss: 0.3503\n",
      "Epoch 12/100\n",
      "\u001b[1m200/200\u001b[0m \u001b[32m━━━━━━━━━━━━━━━━━━━━\u001b[0m\u001b[37m\u001b[0m \u001b[1m0s\u001b[0m 734us/step - accuracy: 0.8566 - loss: 0.3520 - val_accuracy: 0.8531 - val_loss: 0.3485\n",
      "Epoch 13/100\n",
      "\u001b[1m200/200\u001b[0m \u001b[32m━━━━━━━━━━━━━━━━━━━━\u001b[0m\u001b[37m\u001b[0m \u001b[1m0s\u001b[0m 729us/step - accuracy: 0.8630 - loss: 0.3283 - val_accuracy: 0.8525 - val_loss: 0.3469\n",
      "Epoch 14/100\n",
      "\u001b[1m200/200\u001b[0m \u001b[32m━━━━━━━━━━━━━━━━━━━━\u001b[0m\u001b[37m\u001b[0m \u001b[1m0s\u001b[0m 737us/step - accuracy: 0.8538 - loss: 0.3546 - val_accuracy: 0.8519 - val_loss: 0.3478\n",
      "Epoch 15/100\n",
      "\u001b[1m200/200\u001b[0m \u001b[32m━━━━━━━━━━━━━━━━━━━━\u001b[0m\u001b[37m\u001b[0m \u001b[1m0s\u001b[0m 2ms/step - accuracy: 0.8606 - loss: 0.3432 - val_accuracy: 0.8500 - val_loss: 0.3472\n",
      "Epoch 16/100\n",
      "\u001b[1m200/200\u001b[0m \u001b[32m━━━━━━━━━━━━━━━━━━━━\u001b[0m\u001b[37m\u001b[0m \u001b[1m0s\u001b[0m 740us/step - accuracy: 0.8597 - loss: 0.3443 - val_accuracy: 0.8531 - val_loss: 0.3466\n",
      "Epoch 17/100\n",
      "\u001b[1m200/200\u001b[0m \u001b[32m━━━━━━━━━━━━━━━━━━━━\u001b[0m\u001b[37m\u001b[0m \u001b[1m0s\u001b[0m 725us/step - accuracy: 0.8591 - loss: 0.3412 - val_accuracy: 0.8519 - val_loss: 0.3449\n",
      "Epoch 18/100\n",
      "\u001b[1m200/200\u001b[0m \u001b[32m━━━━━━━━━━━━━━━━━━━━\u001b[0m\u001b[37m\u001b[0m \u001b[1m0s\u001b[0m 727us/step - accuracy: 0.8616 - loss: 0.3344 - val_accuracy: 0.8525 - val_loss: 0.3448\n",
      "Epoch 19/100\n",
      "\u001b[1m200/200\u001b[0m \u001b[32m━━━━━━━━━━━━━━━━━━━━\u001b[0m\u001b[37m\u001b[0m \u001b[1m0s\u001b[0m 720us/step - accuracy: 0.8665 - loss: 0.3301 - val_accuracy: 0.8494 - val_loss: 0.3438\n",
      "Epoch 20/100\n",
      "\u001b[1m200/200\u001b[0m \u001b[32m━━━━━━━━━━━━━━━━━━━━\u001b[0m\u001b[37m\u001b[0m \u001b[1m0s\u001b[0m 736us/step - accuracy: 0.8598 - loss: 0.3341 - val_accuracy: 0.8531 - val_loss: 0.3448\n",
      "Epoch 21/100\n",
      "\u001b[1m200/200\u001b[0m \u001b[32m━━━━━━━━━━━━━━━━━━━━\u001b[0m\u001b[37m\u001b[0m \u001b[1m0s\u001b[0m 746us/step - accuracy: 0.8666 - loss: 0.3287 - val_accuracy: 0.8531 - val_loss: 0.3436\n",
      "Epoch 22/100\n",
      "\u001b[1m200/200\u001b[0m \u001b[32m━━━━━━━━━━━━━━━━━━━━\u001b[0m\u001b[37m\u001b[0m \u001b[1m0s\u001b[0m 729us/step - accuracy: 0.8617 - loss: 0.3307 - val_accuracy: 0.8537 - val_loss: 0.3421\n",
      "Epoch 23/100\n",
      "\u001b[1m200/200\u001b[0m \u001b[32m━━━━━━━━━━━━━━━━━━━━\u001b[0m\u001b[37m\u001b[0m \u001b[1m0s\u001b[0m 720us/step - accuracy: 0.8632 - loss: 0.3280 - val_accuracy: 0.8487 - val_loss: 0.3451\n",
      "Epoch 24/100\n",
      "\u001b[1m200/200\u001b[0m \u001b[32m━━━━━━━━━━━━━━━━━━━━\u001b[0m\u001b[37m\u001b[0m \u001b[1m0s\u001b[0m 739us/step - accuracy: 0.8648 - loss: 0.3291 - val_accuracy: 0.8512 - val_loss: 0.3432\n",
      "Epoch 25/100\n",
      "\u001b[1m200/200\u001b[0m \u001b[32m━━━━━━━━━━━━━━━━━━━━\u001b[0m\u001b[37m\u001b[0m \u001b[1m0s\u001b[0m 769us/step - accuracy: 0.8608 - loss: 0.3346 - val_accuracy: 0.8519 - val_loss: 0.3431\n",
      "Epoch 26/100\n",
      "\u001b[1m200/200\u001b[0m \u001b[32m━━━━━━━━━━━━━━━━━━━━\u001b[0m\u001b[37m\u001b[0m \u001b[1m0s\u001b[0m 738us/step - accuracy: 0.8729 - loss: 0.3183 - val_accuracy: 0.8544 - val_loss: 0.3428\n",
      "Epoch 27/100\n",
      "\u001b[1m200/200\u001b[0m \u001b[32m━━━━━━━━━━━━━━━━━━━━\u001b[0m\u001b[37m\u001b[0m \u001b[1m0s\u001b[0m 730us/step - accuracy: 0.8721 - loss: 0.3193 - val_accuracy: 0.8512 - val_loss: 0.3422\n",
      "Epoch 28/100\n",
      "\u001b[1m200/200\u001b[0m \u001b[32m━━━━━━━━━━━━━━━━━━━━\u001b[0m\u001b[37m\u001b[0m \u001b[1m0s\u001b[0m 880us/step - accuracy: 0.8661 - loss: 0.3218 - val_accuracy: 0.8556 - val_loss: 0.3418\n",
      "Epoch 29/100\n",
      "\u001b[1m200/200\u001b[0m \u001b[32m━━━━━━━━━━━━━━━━━━━━\u001b[0m\u001b[37m\u001b[0m \u001b[1m0s\u001b[0m 740us/step - accuracy: 0.8702 - loss: 0.3252 - val_accuracy: 0.8531 - val_loss: 0.3430\n",
      "Epoch 30/100\n",
      "\u001b[1m200/200\u001b[0m \u001b[32m━━━━━━━━━━━━━━━━━━━━\u001b[0m\u001b[37m\u001b[0m \u001b[1m0s\u001b[0m 730us/step - accuracy: 0.8630 - loss: 0.3326 - val_accuracy: 0.8500 - val_loss: 0.3428\n",
      "Epoch 31/100\n",
      "\u001b[1m200/200\u001b[0m \u001b[32m━━━━━━━━━━━━━━━━━━━━\u001b[0m\u001b[37m\u001b[0m \u001b[1m0s\u001b[0m 731us/step - accuracy: 0.8660 - loss: 0.3317 - val_accuracy: 0.8544 - val_loss: 0.3409\n",
      "Epoch 32/100\n",
      "\u001b[1m200/200\u001b[0m \u001b[32m━━━━━━━━━━━━━━━━━━━━\u001b[0m\u001b[37m\u001b[0m \u001b[1m0s\u001b[0m 723us/step - accuracy: 0.8638 - loss: 0.3316 - val_accuracy: 0.8519 - val_loss: 0.3426\n",
      "Epoch 33/100\n",
      "\u001b[1m200/200\u001b[0m \u001b[32m━━━━━━━━━━━━━━━━━━━━\u001b[0m\u001b[37m\u001b[0m \u001b[1m0s\u001b[0m 748us/step - accuracy: 0.8675 - loss: 0.3178 - val_accuracy: 0.8556 - val_loss: 0.3415\n",
      "Epoch 34/100\n",
      "\u001b[1m200/200\u001b[0m \u001b[32m━━━━━━━━━━━━━━━━━━━━\u001b[0m\u001b[37m\u001b[0m \u001b[1m0s\u001b[0m 1ms/step - accuracy: 0.8607 - loss: 0.3330 - val_accuracy: 0.8512 - val_loss: 0.3418\n",
      "Epoch 35/100\n",
      "\u001b[1m200/200\u001b[0m \u001b[32m━━━━━━━━━━━━━━━━━━━━\u001b[0m\u001b[37m\u001b[0m \u001b[1m0s\u001b[0m 731us/step - accuracy: 0.8681 - loss: 0.3149 - val_accuracy: 0.8587 - val_loss: 0.3408\n",
      "Epoch 36/100\n",
      "\u001b[1m200/200\u001b[0m \u001b[32m━━━━━━━━━━━━━━━━━━━━\u001b[0m\u001b[37m\u001b[0m \u001b[1m0s\u001b[0m 727us/step - accuracy: 0.8649 - loss: 0.3290 - val_accuracy: 0.8556 - val_loss: 0.3410\n",
      "Epoch 37/100\n",
      "\u001b[1m200/200\u001b[0m \u001b[32m━━━━━━━━━━━━━━━━━━━━\u001b[0m\u001b[37m\u001b[0m \u001b[1m0s\u001b[0m 736us/step - accuracy: 0.8661 - loss: 0.3263 - val_accuracy: 0.8581 - val_loss: 0.3414\n",
      "Epoch 38/100\n",
      "\u001b[1m200/200\u001b[0m \u001b[32m━━━━━━━━━━━━━━━━━━━━\u001b[0m\u001b[37m\u001b[0m \u001b[1m0s\u001b[0m 721us/step - accuracy: 0.8577 - loss: 0.3332 - val_accuracy: 0.8500 - val_loss: 0.3444\n",
      "Epoch 39/100\n",
      "\u001b[1m200/200\u001b[0m \u001b[32m━━━━━━━━━━━━━━━━━━━━\u001b[0m\u001b[37m\u001b[0m \u001b[1m0s\u001b[0m 825us/step - accuracy: 0.8603 - loss: 0.3352 - val_accuracy: 0.8537 - val_loss: 0.3410\n",
      "Epoch 40/100\n",
      "\u001b[1m200/200\u001b[0m \u001b[32m━━━━━━━━━━━━━━━━━━━━\u001b[0m\u001b[37m\u001b[0m \u001b[1m0s\u001b[0m 751us/step - accuracy: 0.8620 - loss: 0.3213 - val_accuracy: 0.8525 - val_loss: 0.3421\n",
      "Epoch 41/100\n",
      "\u001b[1m200/200\u001b[0m \u001b[32m━━━━━━━━━━━━━━━━━━━━\u001b[0m\u001b[37m\u001b[0m \u001b[1m0s\u001b[0m 794us/step - accuracy: 0.8635 - loss: 0.3276 - val_accuracy: 0.8519 - val_loss: 0.3430\n",
      "Epoch 42/100\n",
      "\u001b[1m200/200\u001b[0m \u001b[32m━━━━━━━━━━━━━━━━━━━━\u001b[0m\u001b[37m\u001b[0m \u001b[1m0s\u001b[0m 728us/step - accuracy: 0.8726 - loss: 0.3079 - val_accuracy: 0.8506 - val_loss: 0.3415\n",
      "Epoch 43/100\n",
      "\u001b[1m200/200\u001b[0m \u001b[32m━━━━━━━━━━━━━━━━━━━━\u001b[0m\u001b[37m\u001b[0m \u001b[1m0s\u001b[0m 725us/step - accuracy: 0.8604 - loss: 0.3348 - val_accuracy: 0.8544 - val_loss: 0.3416\n",
      "Epoch 44/100\n",
      "\u001b[1m200/200\u001b[0m \u001b[32m━━━━━━━━━━━━━━━━━━━━\u001b[0m\u001b[37m\u001b[0m \u001b[1m0s\u001b[0m 725us/step - accuracy: 0.8684 - loss: 0.3240 - val_accuracy: 0.8525 - val_loss: 0.3451\n",
      "Epoch 45/100\n",
      "\u001b[1m200/200\u001b[0m \u001b[32m━━━━━━━━━━━━━━━━━━━━\u001b[0m\u001b[37m\u001b[0m \u001b[1m0s\u001b[0m 741us/step - accuracy: 0.8640 - loss: 0.3257 - val_accuracy: 0.8512 - val_loss: 0.3439\n",
      "Epoch 46/100\n",
      "\u001b[1m200/200\u001b[0m \u001b[32m━━━━━━━━━━━━━━━━━━━━\u001b[0m\u001b[37m\u001b[0m \u001b[1m0s\u001b[0m 734us/step - accuracy: 0.8618 - loss: 0.3272 - val_accuracy: 0.8531 - val_loss: 0.3420\n",
      "Epoch 47/100\n",
      "\u001b[1m200/200\u001b[0m \u001b[32m━━━━━━━━━━━━━━━━━━━━\u001b[0m\u001b[37m\u001b[0m \u001b[1m0s\u001b[0m 722us/step - accuracy: 0.8655 - loss: 0.3263 - val_accuracy: 0.8531 - val_loss: 0.3425\n",
      "Epoch 48/100\n",
      "\u001b[1m200/200\u001b[0m \u001b[32m━━━━━━━━━━━━━━━━━━━━\u001b[0m\u001b[37m\u001b[0m \u001b[1m0s\u001b[0m 731us/step - accuracy: 0.8626 - loss: 0.3318 - val_accuracy: 0.8562 - val_loss: 0.3407\n",
      "Epoch 49/100\n",
      "\u001b[1m200/200\u001b[0m \u001b[32m━━━━━━━━━━━━━━━━━━━━\u001b[0m\u001b[37m\u001b[0m \u001b[1m0s\u001b[0m 718us/step - accuracy: 0.8598 - loss: 0.3293 - val_accuracy: 0.8544 - val_loss: 0.3403\n",
      "Epoch 50/100\n",
      "\u001b[1m200/200\u001b[0m \u001b[32m━━━━━━━━━━━━━━━━━━━━\u001b[0m\u001b[37m\u001b[0m \u001b[1m0s\u001b[0m 725us/step - accuracy: 0.8639 - loss: 0.3249 - val_accuracy: 0.8537 - val_loss: 0.3429\n",
      "Epoch 51/100\n",
      "\u001b[1m200/200\u001b[0m \u001b[32m━━━━━━━━━━━━━━━━━━━━\u001b[0m\u001b[37m\u001b[0m \u001b[1m0s\u001b[0m 782us/step - accuracy: 0.8738 - loss: 0.3118 - val_accuracy: 0.8519 - val_loss: 0.3406\n",
      "Epoch 52/100\n",
      "\u001b[1m200/200\u001b[0m \u001b[32m━━━━━━━━━━━━━━━━━━━━\u001b[0m\u001b[37m\u001b[0m \u001b[1m0s\u001b[0m 747us/step - accuracy: 0.8659 - loss: 0.3233 - val_accuracy: 0.8537 - val_loss: 0.3409\n",
      "Epoch 53/100\n",
      "\u001b[1m200/200\u001b[0m \u001b[32m━━━━━━━━━━━━━━━━━━━━\u001b[0m\u001b[37m\u001b[0m \u001b[1m0s\u001b[0m 726us/step - accuracy: 0.8667 - loss: 0.3209 - val_accuracy: 0.8550 - val_loss: 0.3409\n",
      "Epoch 54/100\n",
      "\u001b[1m200/200\u001b[0m \u001b[32m━━━━━━━━━━━━━━━━━━━━\u001b[0m\u001b[37m\u001b[0m \u001b[1m0s\u001b[0m 1ms/step - accuracy: 0.8601 - loss: 0.3288 - val_accuracy: 0.8550 - val_loss: 0.3409\n",
      "Epoch 55/100\n",
      "\u001b[1m200/200\u001b[0m \u001b[32m━━━━━━━━━━━━━━━━━━━━\u001b[0m\u001b[37m\u001b[0m \u001b[1m0s\u001b[0m 731us/step - accuracy: 0.8559 - loss: 0.3332 - val_accuracy: 0.8550 - val_loss: 0.3408\n",
      "Epoch 56/100\n",
      "\u001b[1m200/200\u001b[0m \u001b[32m━━━━━━━━━━━━━━━━━━━━\u001b[0m\u001b[37m\u001b[0m \u001b[1m0s\u001b[0m 728us/step - accuracy: 0.8658 - loss: 0.3128 - val_accuracy: 0.8556 - val_loss: 0.3414\n",
      "Epoch 57/100\n",
      "\u001b[1m200/200\u001b[0m \u001b[32m━━━━━━━━━━━━━━━━━━━━\u001b[0m\u001b[37m\u001b[0m \u001b[1m0s\u001b[0m 720us/step - accuracy: 0.8709 - loss: 0.3209 - val_accuracy: 0.8562 - val_loss: 0.3422\n",
      "Epoch 58/100\n",
      "\u001b[1m200/200\u001b[0m \u001b[32m━━━━━━━━━━━━━━━━━━━━\u001b[0m\u001b[37m\u001b[0m \u001b[1m0s\u001b[0m 724us/step - accuracy: 0.8635 - loss: 0.3348 - val_accuracy: 0.8581 - val_loss: 0.3394\n",
      "Epoch 59/100\n",
      "\u001b[1m200/200\u001b[0m \u001b[32m━━━━━━━━━━━━━━━━━━━━\u001b[0m\u001b[37m\u001b[0m \u001b[1m0s\u001b[0m 724us/step - accuracy: 0.8549 - loss: 0.3384 - val_accuracy: 0.8550 - val_loss: 0.3445\n",
      "Epoch 60/100\n",
      "\u001b[1m200/200\u001b[0m \u001b[32m━━━━━━━━━━━━━━━━━━━━\u001b[0m\u001b[37m\u001b[0m \u001b[1m0s\u001b[0m 712us/step - accuracy: 0.8595 - loss: 0.3339 - val_accuracy: 0.8562 - val_loss: 0.3425\n",
      "Epoch 61/100\n",
      "\u001b[1m200/200\u001b[0m \u001b[32m━━━━━━━━━━━━━━━━━━━━\u001b[0m\u001b[37m\u001b[0m \u001b[1m0s\u001b[0m 719us/step - accuracy: 0.8700 - loss: 0.3190 - val_accuracy: 0.8562 - val_loss: 0.3411\n",
      "Epoch 62/100\n",
      "\u001b[1m200/200\u001b[0m \u001b[32m━━━━━━━━━━━━━━━━━━━━\u001b[0m\u001b[37m\u001b[0m \u001b[1m0s\u001b[0m 720us/step - accuracy: 0.8647 - loss: 0.3274 - val_accuracy: 0.8550 - val_loss: 0.3435\n",
      "Epoch 63/100\n",
      "\u001b[1m200/200\u001b[0m \u001b[32m━━━━━━━━━━━━━━━━━━━━\u001b[0m\u001b[37m\u001b[0m \u001b[1m0s\u001b[0m 718us/step - accuracy: 0.8657 - loss: 0.3166 - val_accuracy: 0.8575 - val_loss: 0.3412\n",
      "Epoch 64/100\n",
      "\u001b[1m200/200\u001b[0m \u001b[32m━━━━━━━━━━━━━━━━━━━━\u001b[0m\u001b[37m\u001b[0m \u001b[1m0s\u001b[0m 722us/step - accuracy: 0.8608 - loss: 0.3280 - val_accuracy: 0.8581 - val_loss: 0.3414\n",
      "Epoch 65/100\n",
      "\u001b[1m200/200\u001b[0m \u001b[32m━━━━━━━━━━━━━━━━━━━━\u001b[0m\u001b[37m\u001b[0m \u001b[1m0s\u001b[0m 722us/step - accuracy: 0.8641 - loss: 0.3329 - val_accuracy: 0.8606 - val_loss: 0.3401\n",
      "Epoch 66/100\n",
      "\u001b[1m200/200\u001b[0m \u001b[32m━━━━━━━━━━━━━━━━━━━━\u001b[0m\u001b[37m\u001b[0m \u001b[1m0s\u001b[0m 723us/step - accuracy: 0.8580 - loss: 0.3303 - val_accuracy: 0.8594 - val_loss: 0.3420\n",
      "Epoch 67/100\n",
      "\u001b[1m200/200\u001b[0m \u001b[32m━━━━━━━━━━━━━━━━━━━━\u001b[0m\u001b[37m\u001b[0m \u001b[1m0s\u001b[0m 746us/step - accuracy: 0.8673 - loss: 0.3259 - val_accuracy: 0.8587 - val_loss: 0.3417\n",
      "Epoch 68/100\n",
      "\u001b[1m200/200\u001b[0m \u001b[32m━━━━━━━━━━━━━━━━━━━━\u001b[0m\u001b[37m\u001b[0m \u001b[1m0s\u001b[0m 727us/step - accuracy: 0.8601 - loss: 0.3390 - val_accuracy: 0.8575 - val_loss: 0.3413\n",
      "Epoch 69/100\n",
      "\u001b[1m200/200\u001b[0m \u001b[32m━━━━━━━━━━━━━━━━━━━━\u001b[0m\u001b[37m\u001b[0m \u001b[1m0s\u001b[0m 725us/step - accuracy: 0.8551 - loss: 0.3300 - val_accuracy: 0.8562 - val_loss: 0.3431\n",
      "Epoch 70/100\n",
      "\u001b[1m200/200\u001b[0m \u001b[32m━━━━━━━━━━━━━━━━━━━━\u001b[0m\u001b[37m\u001b[0m \u001b[1m0s\u001b[0m 744us/step - accuracy: 0.8662 - loss: 0.3203 - val_accuracy: 0.8569 - val_loss: 0.3409\n",
      "Epoch 71/100\n",
      "\u001b[1m200/200\u001b[0m \u001b[32m━━━━━━━━━━━━━━━━━━━━\u001b[0m\u001b[37m\u001b[0m \u001b[1m0s\u001b[0m 722us/step - accuracy: 0.8702 - loss: 0.3149 - val_accuracy: 0.8612 - val_loss: 0.3398\n",
      "Epoch 72/100\n",
      "\u001b[1m200/200\u001b[0m \u001b[32m━━━━━━━━━━━━━━━━━━━━\u001b[0m\u001b[37m\u001b[0m \u001b[1m0s\u001b[0m 964us/step - accuracy: 0.8659 - loss: 0.3221 - val_accuracy: 0.8544 - val_loss: 0.3422\n",
      "Epoch 73/100\n",
      "\u001b[1m200/200\u001b[0m \u001b[32m━━━━━━━━━━━━━━━━━━━━\u001b[0m\u001b[37m\u001b[0m \u001b[1m0s\u001b[0m 721us/step - accuracy: 0.8654 - loss: 0.3178 - val_accuracy: 0.8556 - val_loss: 0.3431\n",
      "Epoch 74/100\n",
      "\u001b[1m200/200\u001b[0m \u001b[32m━━━━━━━━━━━━━━━━━━━━\u001b[0m\u001b[37m\u001b[0m \u001b[1m0s\u001b[0m 719us/step - accuracy: 0.8707 - loss: 0.3032 - val_accuracy: 0.8575 - val_loss: 0.3428\n",
      "Epoch 75/100\n",
      "\u001b[1m200/200\u001b[0m \u001b[32m━━━━━━━━━━━━━━━━━━━━\u001b[0m\u001b[37m\u001b[0m \u001b[1m0s\u001b[0m 730us/step - accuracy: 0.8657 - loss: 0.3248 - val_accuracy: 0.8550 - val_loss: 0.3413\n",
      "Epoch 76/100\n",
      "\u001b[1m200/200\u001b[0m \u001b[32m━━━━━━━━━━━━━━━━━━━━\u001b[0m\u001b[37m\u001b[0m \u001b[1m0s\u001b[0m 718us/step - accuracy: 0.8721 - loss: 0.3226 - val_accuracy: 0.8594 - val_loss: 0.3423\n",
      "Epoch 77/100\n",
      "\u001b[1m200/200\u001b[0m \u001b[32m━━━━━━━━━━━━━━━━━━━━\u001b[0m\u001b[37m\u001b[0m \u001b[1m0s\u001b[0m 720us/step - accuracy: 0.8622 - loss: 0.3273 - val_accuracy: 0.8531 - val_loss: 0.3424\n",
      "Epoch 78/100\n",
      "\u001b[1m200/200\u001b[0m \u001b[32m━━━━━━━━━━━━━━━━━━━━\u001b[0m\u001b[37m\u001b[0m \u001b[1m0s\u001b[0m 711us/step - accuracy: 0.8590 - loss: 0.3298 - val_accuracy: 0.8562 - val_loss: 0.3406\n",
      "Epoch 79/100\n",
      "\u001b[1m200/200\u001b[0m \u001b[32m━━━━━━━━━━━━━━━━━━━━\u001b[0m\u001b[37m\u001b[0m \u001b[1m0s\u001b[0m 715us/step - accuracy: 0.8623 - loss: 0.3247 - val_accuracy: 0.8575 - val_loss: 0.3403\n",
      "Epoch 80/100\n",
      "\u001b[1m200/200\u001b[0m \u001b[32m━━━━━━━━━━━━━━━━━━━━\u001b[0m\u001b[37m\u001b[0m \u001b[1m0s\u001b[0m 793us/step - accuracy: 0.8612 - loss: 0.3265 - val_accuracy: 0.8562 - val_loss: 0.3404\n",
      "Epoch 81/100\n",
      "\u001b[1m200/200\u001b[0m \u001b[32m━━━━━━━━━━━━━━━━━━━━\u001b[0m\u001b[37m\u001b[0m \u001b[1m0s\u001b[0m 750us/step - accuracy: 0.8607 - loss: 0.3223 - val_accuracy: 0.8581 - val_loss: 0.3408\n",
      "Epoch 82/100\n",
      "\u001b[1m200/200\u001b[0m \u001b[32m━━━━━━━━━━━━━━━━━━━━\u001b[0m\u001b[37m\u001b[0m \u001b[1m0s\u001b[0m 732us/step - accuracy: 0.8681 - loss: 0.3180 - val_accuracy: 0.8594 - val_loss: 0.3380\n",
      "Epoch 83/100\n",
      "\u001b[1m200/200\u001b[0m \u001b[32m━━━━━━━━━━━━━━━━━━━━\u001b[0m\u001b[37m\u001b[0m \u001b[1m0s\u001b[0m 715us/step - accuracy: 0.8675 - loss: 0.3167 - val_accuracy: 0.8562 - val_loss: 0.3421\n",
      "Epoch 84/100\n",
      "\u001b[1m200/200\u001b[0m \u001b[32m━━━━━━━━━━━━━━━━━━━━\u001b[0m\u001b[37m\u001b[0m \u001b[1m0s\u001b[0m 729us/step - accuracy: 0.8654 - loss: 0.3209 - val_accuracy: 0.8556 - val_loss: 0.3431\n",
      "Epoch 85/100\n",
      "\u001b[1m200/200\u001b[0m \u001b[32m━━━━━━━━━━━━━━━━━━━━\u001b[0m\u001b[37m\u001b[0m \u001b[1m0s\u001b[0m 715us/step - accuracy: 0.8588 - loss: 0.3371 - val_accuracy: 0.8562 - val_loss: 0.3395\n",
      "Epoch 86/100\n",
      "\u001b[1m200/200\u001b[0m \u001b[32m━━━━━━━━━━━━━━━━━━━━\u001b[0m\u001b[37m\u001b[0m \u001b[1m0s\u001b[0m 721us/step - accuracy: 0.8715 - loss: 0.3088 - val_accuracy: 0.8562 - val_loss: 0.3409\n",
      "Epoch 87/100\n",
      "\u001b[1m200/200\u001b[0m \u001b[32m━━━━━━━━━━━━━━━━━━━━\u001b[0m\u001b[37m\u001b[0m \u001b[1m0s\u001b[0m 722us/step - accuracy: 0.8642 - loss: 0.3309 - val_accuracy: 0.8575 - val_loss: 0.3402\n",
      "Epoch 88/100\n",
      "\u001b[1m200/200\u001b[0m \u001b[32m━━━━━━━━━━━━━━━━━━━━\u001b[0m\u001b[37m\u001b[0m \u001b[1m0s\u001b[0m 717us/step - accuracy: 0.8661 - loss: 0.3165 - val_accuracy: 0.8569 - val_loss: 0.3407\n",
      "Epoch 89/100\n",
      "\u001b[1m200/200\u001b[0m \u001b[32m━━━━━━━━━━━━━━━━━━━━\u001b[0m\u001b[37m\u001b[0m \u001b[1m0s\u001b[0m 723us/step - accuracy: 0.8625 - loss: 0.3290 - val_accuracy: 0.8562 - val_loss: 0.3450\n",
      "Epoch 90/100\n",
      "\u001b[1m200/200\u001b[0m \u001b[32m━━━━━━━━━━━━━━━━━━━━\u001b[0m\u001b[37m\u001b[0m \u001b[1m0s\u001b[0m 1ms/step - accuracy: 0.8680 - loss: 0.3189 - val_accuracy: 0.8550 - val_loss: 0.3396\n",
      "Epoch 91/100\n",
      "\u001b[1m200/200\u001b[0m \u001b[32m━━━━━━━━━━━━━━━━━━━━\u001b[0m\u001b[37m\u001b[0m \u001b[1m0s\u001b[0m 804us/step - accuracy: 0.8637 - loss: 0.3216 - val_accuracy: 0.8587 - val_loss: 0.3401\n",
      "Epoch 92/100\n",
      "\u001b[1m200/200\u001b[0m \u001b[32m━━━━━━━━━━━━━━━━━━━━\u001b[0m\u001b[37m\u001b[0m \u001b[1m0s\u001b[0m 774us/step - accuracy: 0.8646 - loss: 0.3290 - val_accuracy: 0.8569 - val_loss: 0.3422\n",
      "Epoch 93/100\n",
      "\u001b[1m200/200\u001b[0m \u001b[32m━━━━━━━━━━━━━━━━━━━━\u001b[0m\u001b[37m\u001b[0m \u001b[1m0s\u001b[0m 1ms/step - accuracy: 0.8654 - loss: 0.3240 - val_accuracy: 0.8569 - val_loss: 0.3411\n",
      "Epoch 94/100\n",
      "\u001b[1m200/200\u001b[0m \u001b[32m━━━━━━━━━━━━━━━━━━━━\u001b[0m\u001b[37m\u001b[0m \u001b[1m0s\u001b[0m 1ms/step - accuracy: 0.8711 - loss: 0.3159 - val_accuracy: 0.8581 - val_loss: 0.3395\n",
      "Epoch 95/100\n",
      "\u001b[1m200/200\u001b[0m \u001b[32m━━━━━━━━━━━━━━━━━━━━\u001b[0m\u001b[37m\u001b[0m \u001b[1m0s\u001b[0m 2ms/step - accuracy: 0.8703 - loss: 0.3153 - val_accuracy: 0.8569 - val_loss: 0.3410\n",
      "Epoch 96/100\n",
      "\u001b[1m200/200\u001b[0m \u001b[32m━━━━━━━━━━━━━━━━━━━━\u001b[0m\u001b[37m\u001b[0m \u001b[1m0s\u001b[0m 830us/step - accuracy: 0.8624 - loss: 0.3272 - val_accuracy: 0.8544 - val_loss: 0.3406\n",
      "Epoch 97/100\n",
      "\u001b[1m200/200\u001b[0m \u001b[32m━━━━━━━━━━━━━━━━━━━━\u001b[0m\u001b[37m\u001b[0m \u001b[1m0s\u001b[0m 771us/step - accuracy: 0.8659 - loss: 0.3226 - val_accuracy: 0.8562 - val_loss: 0.3406\n",
      "Epoch 98/100\n",
      "\u001b[1m200/200\u001b[0m \u001b[32m━━━━━━━━━━━━━━━━━━━━\u001b[0m\u001b[37m\u001b[0m \u001b[1m0s\u001b[0m 1ms/step - accuracy: 0.8678 - loss: 0.3222 - val_accuracy: 0.8569 - val_loss: 0.3425\n",
      "Epoch 99/100\n",
      "\u001b[1m200/200\u001b[0m \u001b[32m━━━━━━━━━━━━━━━━━━━━\u001b[0m\u001b[37m\u001b[0m \u001b[1m0s\u001b[0m 802us/step - accuracy: 0.8640 - loss: 0.3320 - val_accuracy: 0.8569 - val_loss: 0.3433\n",
      "Epoch 100/100\n",
      "\u001b[1m200/200\u001b[0m \u001b[32m━━━━━━━━━━━━━━━━━━━━\u001b[0m\u001b[37m\u001b[0m \u001b[1m0s\u001b[0m 1ms/step - accuracy: 0.8628 - loss: 0.3273 - val_accuracy: 0.8575 - val_loss: 0.3397\n"
     ]
    }
   ],
   "source": [
    "history = model.fit(X_train_scaler, y_train, epochs=100, validation_split=0.2)"
   ]
  },
  {
   "cell_type": "code",
   "execution_count": 25,
   "metadata": {},
   "outputs": [
    {
     "data": {
      "text/plain": [
       "([array([[ 2.25057289e-01,  2.72133917e-01, -2.77283937e-01,\n",
       "          -3.23166102e-01,  2.39514597e-02,  3.11733522e-02,\n",
       "           6.31007403e-02, -5.27922474e-02, -9.00676996e-02,\n",
       "           3.42434287e-01,  4.41685803e-02],\n",
       "         [ 3.72797288e-02, -1.27998888e-02,  8.11169565e-01,\n",
       "           6.72303289e-02, -3.57166380e-01, -5.24816632e-01,\n",
       "          -1.24322399e-01,  1.41450286e+00, -3.91219854e-01,\n",
       "           3.95870894e-01,  6.21804446e-02],\n",
       "         [ 4.71871018e-01,  6.38622761e-01,  3.27952355e-01,\n",
       "          -1.47828043e-01,  1.67063907e-01, -2.31602177e-01,\n",
       "          -2.05934852e-01, -8.29609632e-02,  1.10481605e-01,\n",
       "           5.01797907e-02,  2.37583265e-01],\n",
       "         [-3.54643792e-01, -3.86735797e-01,  9.78767574e-02,\n",
       "          -3.89488012e-01,  2.66225010e-01,  1.15435529e+00,\n",
       "           2.94844002e-01, -7.15086889e-03, -1.58439487e-01,\n",
       "           8.89905572e-01,  5.42779565e-01],\n",
       "         [-7.85600901e-01,  3.08853909e-02,  1.43577039e-01,\n",
       "          -1.07152557e+00, -1.19737253e-01, -4.22680855e-01,\n",
       "           3.60202730e-01, -1.98920518e-01,  3.25739533e-01,\n",
       "          -7.42778242e-01,  1.04689479e+00],\n",
       "         [-3.14344287e-01,  3.69776458e-01, -3.42637971e-02,\n",
       "          -6.39222041e-02,  5.65011024e-01,  1.13599229e+00,\n",
       "           8.32562625e-01, -2.23748211e-04, -5.07074893e-01,\n",
       "          -6.50527239e-01, -2.07757026e-01],\n",
       "         [ 2.86583509e-02,  6.39333725e-01,  9.02692080e-01,\n",
       "          -5.98146319e-01,  4.26046461e-01,  7.53445178e-02,\n",
       "          -3.38713706e-01,  1.27504349e-01, -4.09845352e-01,\n",
       "           3.27475250e-01,  1.41743673e-02],\n",
       "         [-1.05575971e-01, -2.75075138e-01,  2.18416229e-01,\n",
       "           1.94906890e-01,  6.56414777e-02, -1.74258519e-02,\n",
       "           1.70524493e-01, -1.73168704e-02, -9.00529325e-02,\n",
       "           1.28108868e-02, -2.76221111e-02],\n",
       "         [-7.41180405e-02, -6.87870145e-01, -1.43415760e-02,\n",
       "           3.88072491e-01,  7.26193637e-02, -4.25348938e-01,\n",
       "          -3.48168910e-01,  2.53660977e-02, -2.33335376e-01,\n",
       "          -1.91572696e-01, -4.02078152e-01],\n",
       "         [-4.33686152e-02,  2.34093949e-01,  1.89576402e-01,\n",
       "           1.39374241e-01, -2.36677721e-01, -8.91735926e-02,\n",
       "          -1.79208428e-01,  8.51143210e-04,  1.04356639e-01,\n",
       "          -1.25839293e-01,  1.73825502e-01],\n",
       "         [-1.62148952e-01,  1.87354267e-01,  3.89645211e-02,\n",
       "          -1.08688809e-01, -1.87633500e-01, -1.03508741e-01,\n",
       "           4.27158296e-01,  7.89534152e-02, -1.52071968e-01,\n",
       "           4.72458035e-01, -1.50695473e-01]], dtype=float32),\n",
       "  array([-0.10729253,  0.30676472, -0.01561459,  0.52380246,  0.53015715,\n",
       "         -0.17573369,  0.84937435, -0.15741317,  0.598408  ,  0.2327644 ,\n",
       "         -0.26409662], dtype=float32)],\n",
       " [array([[ 0.78499   ,  0.2533488 ,  0.00769729,  0.30188486, -0.37694874,\n",
       "          -0.02200247, -0.19451421, -0.3749425 , -0.36456174,  0.15784663,\n",
       "          -0.17893103],\n",
       "         [ 0.07858809,  0.05956996,  0.0123031 ,  0.10617474,  0.28555104,\n",
       "          -0.38926935, -0.8929857 ,  0.32222846,  0.22442408, -0.35523787,\n",
       "           0.22476068],\n",
       "         [-0.10412189,  0.7545096 , -0.05770106,  0.64385   ,  0.54637414,\n",
       "           0.07888844,  0.27838412, -0.01551895,  0.2139522 , -0.11933167,\n",
       "          -0.27741084],\n",
       "         [ 0.6954627 , -0.49297994,  0.24621692, -0.6010796 , -0.23174621,\n",
       "          -0.21116091,  0.15396678,  0.04636767, -0.67055494,  0.00730392,\n",
       "           0.06958792],\n",
       "         [-0.18233886, -0.47891656,  0.16213979, -0.6506418 , -0.10219862,\n",
       "          -0.02181259, -0.12901133,  0.4680348 , -0.5321656 ,  0.3300753 ,\n",
       "           0.12955643],\n",
       "         [ 0.2565982 , -0.3289425 , -0.285569  ,  0.18600427,  0.39285973,\n",
       "          -0.94204503,  0.6582093 , -0.0701966 , -0.20788401, -1.2326198 ,\n",
       "           0.24664712],\n",
       "         [ 0.18393026, -0.5570591 ,  0.6742542 ,  0.05150499, -0.13033742,\n",
       "           0.37197044, -0.10211216,  0.6671257 ,  0.50149125, -0.8503889 ,\n",
       "           0.29380992],\n",
       "         [ 0.48421595,  0.30496633, -0.72713995,  0.67471105,  0.59670895,\n",
       "           0.27681983, -0.20737559, -0.76390046,  0.20944765, -0.6617644 ,\n",
       "          -0.45186803],\n",
       "         [ 0.29861668,  0.23366356,  0.36284015,  0.26390648,  0.13907778,\n",
       "          -0.16889948, -0.6269126 ,  0.4505353 ,  0.25674242,  0.60313886,\n",
       "           0.47828484],\n",
       "         [ 0.35505816,  0.6100523 ,  0.08589081, -0.67893636, -0.26569793,\n",
       "          -0.89557797, -0.07023334,  0.21956447,  0.50678235,  0.35166496,\n",
       "          -0.07111637],\n",
       "         [ 0.79644483, -0.4205223 , -0.43986988, -0.5314017 ,  0.08335887,\n",
       "           0.81166476, -0.0342625 , -0.5199134 , -0.12248201,  0.28888738,\n",
       "          -0.3537465 ]], dtype=float32),\n",
       "  array([ 0.02319391, -0.01808407,  0.65395087, -0.23059727,  0.30076927,\n",
       "         -0.05436156, -0.01861673,  0.51130974,  0.15881781,  0.38199952,\n",
       "          0.7516497 ], dtype=float32)])"
      ]
     },
     "execution_count": 25,
     "metadata": {},
     "output_type": "execute_result"
    }
   ],
   "source": [
    "model.layers[0].get_weights(),model.layers[1].get_weights()"
   ]
  },
  {
   "cell_type": "code",
   "execution_count": 26,
   "metadata": {},
   "outputs": [
    {
     "name": "stdout",
     "output_type": "stream",
     "text": [
      "\u001b[1m63/63\u001b[0m \u001b[32m━━━━━━━━━━━━━━━━━━━━\u001b[0m\u001b[37m\u001b[0m \u001b[1m0s\u001b[0m 732us/step\n"
     ]
    }
   ],
   "source": [
    "y_log = model.predict(X_test_scalar)"
   ]
  },
  {
   "cell_type": "code",
   "execution_count": 27,
   "metadata": {},
   "outputs": [],
   "source": [
    "y_pred = np.where(y_log>0.5,1,0)"
   ]
  },
  {
   "cell_type": "code",
   "execution_count": 28,
   "metadata": {},
   "outputs": [
    {
     "data": {
      "text/plain": [
       "array([[0],\n",
       "       [0],\n",
       "       [0],\n",
       "       ...,\n",
       "       [0],\n",
       "       [0],\n",
       "       [0]])"
      ]
     },
     "execution_count": 28,
     "metadata": {},
     "output_type": "execute_result"
    }
   ],
   "source": [
    "y_pred"
   ]
  },
  {
   "cell_type": "code",
   "execution_count": 29,
   "metadata": {},
   "outputs": [
    {
     "data": {
      "text/plain": [
       "0.8615"
      ]
     },
     "execution_count": 29,
     "metadata": {},
     "output_type": "execute_result"
    }
   ],
   "source": [
    "from sklearn.metrics import accuracy_score\n",
    "\n",
    "accuracy_score(y_test, y_pred)"
   ]
  },
  {
   "cell_type": "code",
   "execution_count": 30,
   "metadata": {},
   "outputs": [],
   "source": [
    "import matplotlib.pyplot as plt"
   ]
  },
  {
   "cell_type": "code",
   "execution_count": 31,
   "metadata": {},
   "outputs": [
    {
     "data": {
      "text/plain": [
       "<keras.src.callbacks.history.History at 0x151b86610>"
      ]
     },
     "execution_count": 31,
     "metadata": {},
     "output_type": "execute_result"
    }
   ],
   "source": [
    "history"
   ]
  },
  {
   "cell_type": "code",
   "execution_count": 32,
   "metadata": {},
   "outputs": [
    {
     "data": {
      "text/plain": [
       "{'accuracy': [0.7503125071525574,\n",
       "  0.8040624856948853,\n",
       "  0.8092187643051147,\n",
       "  0.8165624737739563,\n",
       "  0.8209375143051147,\n",
       "  0.828125,\n",
       "  0.835156261920929,\n",
       "  0.840624988079071,\n",
       "  0.8482812643051147,\n",
       "  0.8509374856948853,\n",
       "  0.85546875,\n",
       "  0.8581249713897705,\n",
       "  0.8589062690734863,\n",
       "  0.8595312237739563,\n",
       "  0.8598437309265137,\n",
       "  0.8618749976158142,\n",
       "  0.8606250286102295,\n",
       "  0.8615624904632568,\n",
       "  0.8628125190734863,\n",
       "  0.8623437285423279,\n",
       "  0.8628125190734863,\n",
       "  0.8628125190734863,\n",
       "  0.8623437285423279,\n",
       "  0.8621875047683716,\n",
       "  0.8631250262260437,\n",
       "  0.8637499809265137,\n",
       "  0.8646875023841858,\n",
       "  0.8634374737739563,\n",
       "  0.8639062643051147,\n",
       "  0.8635937571525574,\n",
       "  0.86328125,\n",
       "  0.8618749976158142,\n",
       "  0.862500011920929,\n",
       "  0.864062488079071,\n",
       "  0.8607812523841858,\n",
       "  0.8656250238418579,\n",
       "  0.864062488079071,\n",
       "  0.8635937571525574,\n",
       "  0.8646875023841858,\n",
       "  0.8631250262260437,\n",
       "  0.8648437261581421,\n",
       "  0.86328125,\n",
       "  0.8637499809265137,\n",
       "  0.8650000095367432,\n",
       "  0.8635937571525574,\n",
       "  0.8642187714576721,\n",
       "  0.8639062643051147,\n",
       "  0.8637499809265137,\n",
       "  0.864062488079071,\n",
       "  0.8635937571525574,\n",
       "  0.8653125166893005,\n",
       "  0.8637499809265137,\n",
       "  0.8657812476158142,\n",
       "  0.8651562333106995,\n",
       "  0.8635937571525574,\n",
       "  0.8621875047683716,\n",
       "  0.8657812476158142,\n",
       "  0.8653125166893005,\n",
       "  0.8645312786102295,\n",
       "  0.8643749952316284,\n",
       "  0.8639062643051147,\n",
       "  0.8667187690734863,\n",
       "  0.8635937571525574,\n",
       "  0.8639062643051147,\n",
       "  0.8656250238418579,\n",
       "  0.8642187714576721,\n",
       "  0.8653125166893005,\n",
       "  0.8660937547683716,\n",
       "  0.8639062643051147,\n",
       "  0.8634374737739563,\n",
       "  0.8667187690734863,\n",
       "  0.8645312786102295,\n",
       "  0.8639062643051147,\n",
       "  0.8635937571525574,\n",
       "  0.8662499785423279,\n",
       "  0.866406261920929,\n",
       "  0.8648437261581421,\n",
       "  0.8670312762260437,\n",
       "  0.8662499785423279,\n",
       "  0.8654687404632568,\n",
       "  0.8653125166893005,\n",
       "  0.8657812476158142,\n",
       "  0.8651562333106995,\n",
       "  0.8656250238418579,\n",
       "  0.8684375286102295,\n",
       "  0.8634374737739563,\n",
       "  0.8671875,\n",
       "  0.8653125166893005,\n",
       "  0.8665624856948853,\n",
       "  0.8660937547683716,\n",
       "  0.8645312786102295,\n",
       "  0.8662499785423279,\n",
       "  0.8678125143051147,\n",
       "  0.8675000071525574,\n",
       "  0.8662499785423279,\n",
       "  0.8662499785423279,\n",
       "  0.8656250238418579,\n",
       "  0.866406261920929,\n",
       "  0.866406261920929,\n",
       "  0.8667187690734863],\n",
       " 'loss': [0.5394746661186218,\n",
       "  0.45276325941085815,\n",
       "  0.4352101981639862,\n",
       "  0.42602893710136414,\n",
       "  0.41786253452301025,\n",
       "  0.4090467691421509,\n",
       "  0.39929184317588806,\n",
       "  0.387979120016098,\n",
       "  0.3745647668838501,\n",
       "  0.36268842220306396,\n",
       "  0.3535013496875763,\n",
       "  0.34767815470695496,\n",
       "  0.34369948506355286,\n",
       "  0.3411194980144501,\n",
       "  0.33950182795524597,\n",
       "  0.3372798562049866,\n",
       "  0.3367964029312134,\n",
       "  0.3355099558830261,\n",
       "  0.33431920409202576,\n",
       "  0.33401134610176086,\n",
       "  0.33350083231925964,\n",
       "  0.33240386843681335,\n",
       "  0.331716924905777,\n",
       "  0.3314867317676544,\n",
       "  0.3308050036430359,\n",
       "  0.331157386302948,\n",
       "  0.32961177825927734,\n",
       "  0.3293929398059845,\n",
       "  0.32950469851493835,\n",
       "  0.32887619733810425,\n",
       "  0.3291981518268585,\n",
       "  0.3281804025173187,\n",
       "  0.3282243609428406,\n",
       "  0.32839667797088623,\n",
       "  0.32832276821136475,\n",
       "  0.3279528021812439,\n",
       "  0.3270185887813568,\n",
       "  0.3268868625164032,\n",
       "  0.32689976692199707,\n",
       "  0.3270195722579956,\n",
       "  0.326534241437912,\n",
       "  0.32613396644592285,\n",
       "  0.326630175113678,\n",
       "  0.32580140233039856,\n",
       "  0.32628703117370605,\n",
       "  0.3258349895477295,\n",
       "  0.326588898897171,\n",
       "  0.3262774646282196,\n",
       "  0.32555508613586426,\n",
       "  0.3254847824573517,\n",
       "  0.32585445046424866,\n",
       "  0.3255125880241394,\n",
       "  0.32508566975593567,\n",
       "  0.32508477568626404,\n",
       "  0.3251417577266693,\n",
       "  0.32489845156669617,\n",
       "  0.32426178455352783,\n",
       "  0.3249059021472931,\n",
       "  0.32431599497795105,\n",
       "  0.3242935240268707,\n",
       "  0.32453033328056335,\n",
       "  0.32413893938064575,\n",
       "  0.3238586187362671,\n",
       "  0.3243050277233124,\n",
       "  0.3239597976207733,\n",
       "  0.3237491548061371,\n",
       "  0.323600172996521,\n",
       "  0.32335686683654785,\n",
       "  0.32297709584236145,\n",
       "  0.3241393566131592,\n",
       "  0.32286518812179565,\n",
       "  0.32308030128479004,\n",
       "  0.3230104446411133,\n",
       "  0.3223819434642792,\n",
       "  0.323294460773468,\n",
       "  0.3223194181919098,\n",
       "  0.3226582705974579,\n",
       "  0.32264578342437744,\n",
       "  0.322493314743042,\n",
       "  0.3224044144153595,\n",
       "  0.3222200274467468,\n",
       "  0.32225173711776733,\n",
       "  0.32221347093582153,\n",
       "  0.3219989538192749,\n",
       "  0.3217082619667053,\n",
       "  0.3226489722728729,\n",
       "  0.3215935230255127,\n",
       "  0.3218153417110443,\n",
       "  0.32144778966903687,\n",
       "  0.3215785622596741,\n",
       "  0.32146167755126953,\n",
       "  0.3214164674282074,\n",
       "  0.3210270404815674,\n",
       "  0.32123661041259766,\n",
       "  0.3210260272026062,\n",
       "  0.32132744789123535,\n",
       "  0.320372074842453,\n",
       "  0.32088279724121094,\n",
       "  0.3210384249687195,\n",
       "  0.32081279158592224],\n",
       " 'val_accuracy': [0.7993749976158142,\n",
       "  0.8062499761581421,\n",
       "  0.8137500286102295,\n",
       "  0.8181250095367432,\n",
       "  0.8243749737739563,\n",
       "  0.8287500143051147,\n",
       "  0.8337500095367432,\n",
       "  0.8424999713897705,\n",
       "  0.8481249809265137,\n",
       "  0.8518750071525574,\n",
       "  0.8556249737739563,\n",
       "  0.8531249761581421,\n",
       "  0.8525000214576721,\n",
       "  0.8518750071525574,\n",
       "  0.8500000238418579,\n",
       "  0.8531249761581421,\n",
       "  0.8518750071525574,\n",
       "  0.8525000214576721,\n",
       "  0.8493750095367432,\n",
       "  0.8531249761581421,\n",
       "  0.8531249761581421,\n",
       "  0.8537499904632568,\n",
       "  0.8487499952316284,\n",
       "  0.8512499928474426,\n",
       "  0.8518750071525574,\n",
       "  0.8543750047683716,\n",
       "  0.8512499928474426,\n",
       "  0.8556249737739563,\n",
       "  0.8531249761581421,\n",
       "  0.8500000238418579,\n",
       "  0.8543750047683716,\n",
       "  0.8518750071525574,\n",
       "  0.8556249737739563,\n",
       "  0.8512499928474426,\n",
       "  0.8587499856948853,\n",
       "  0.8556249737739563,\n",
       "  0.8581249713897705,\n",
       "  0.8500000238418579,\n",
       "  0.8537499904632568,\n",
       "  0.8525000214576721,\n",
       "  0.8518750071525574,\n",
       "  0.8506249785423279,\n",
       "  0.8543750047683716,\n",
       "  0.8525000214576721,\n",
       "  0.8512499928474426,\n",
       "  0.8531249761581421,\n",
       "  0.8531249761581421,\n",
       "  0.856249988079071,\n",
       "  0.8543750047683716,\n",
       "  0.8537499904632568,\n",
       "  0.8518750071525574,\n",
       "  0.8537499904632568,\n",
       "  0.8550000190734863,\n",
       "  0.8550000190734863,\n",
       "  0.8550000190734863,\n",
       "  0.8556249737739563,\n",
       "  0.856249988079071,\n",
       "  0.8581249713897705,\n",
       "  0.8550000190734863,\n",
       "  0.856249988079071,\n",
       "  0.856249988079071,\n",
       "  0.8550000190734863,\n",
       "  0.8575000166893005,\n",
       "  0.8581249713897705,\n",
       "  0.8606250286102295,\n",
       "  0.859375,\n",
       "  0.8587499856948853,\n",
       "  0.8575000166893005,\n",
       "  0.856249988079071,\n",
       "  0.8568750023841858,\n",
       "  0.8612499833106995,\n",
       "  0.8543750047683716,\n",
       "  0.8556249737739563,\n",
       "  0.8575000166893005,\n",
       "  0.8550000190734863,\n",
       "  0.859375,\n",
       "  0.8531249761581421,\n",
       "  0.856249988079071,\n",
       "  0.8575000166893005,\n",
       "  0.856249988079071,\n",
       "  0.8581249713897705,\n",
       "  0.859375,\n",
       "  0.856249988079071,\n",
       "  0.8556249737739563,\n",
       "  0.856249988079071,\n",
       "  0.856249988079071,\n",
       "  0.8575000166893005,\n",
       "  0.8568750023841858,\n",
       "  0.856249988079071,\n",
       "  0.8550000190734863,\n",
       "  0.8587499856948853,\n",
       "  0.8568750023841858,\n",
       "  0.8568750023841858,\n",
       "  0.8581249713897705,\n",
       "  0.8568750023841858,\n",
       "  0.8543750047683716,\n",
       "  0.856249988079071,\n",
       "  0.8568750023841858,\n",
       "  0.8568750023841858,\n",
       "  0.8575000166893005],\n",
       " 'val_loss': [0.4640214443206787,\n",
       "  0.4406912922859192,\n",
       "  0.4294078052043915,\n",
       "  0.4203750193119049,\n",
       "  0.4126893877983093,\n",
       "  0.40241989493370056,\n",
       "  0.39264872670173645,\n",
       "  0.37851202487945557,\n",
       "  0.3666771650314331,\n",
       "  0.3569779098033905,\n",
       "  0.35030558705329895,\n",
       "  0.34853264689445496,\n",
       "  0.34690433740615845,\n",
       "  0.3477552831172943,\n",
       "  0.34715771675109863,\n",
       "  0.34660011529922485,\n",
       "  0.3448682129383087,\n",
       "  0.34483692049980164,\n",
       "  0.3437573313713074,\n",
       "  0.3447982668876648,\n",
       "  0.3435783386230469,\n",
       "  0.3420703113079071,\n",
       "  0.34505394101142883,\n",
       "  0.34322285652160645,\n",
       "  0.3431113064289093,\n",
       "  0.34279534220695496,\n",
       "  0.34220176935195923,\n",
       "  0.34178411960601807,\n",
       "  0.3430350422859192,\n",
       "  0.3427881598472595,\n",
       "  0.3409273624420166,\n",
       "  0.34264838695526123,\n",
       "  0.34148627519607544,\n",
       "  0.34181922674179077,\n",
       "  0.3407915532588959,\n",
       "  0.3410245180130005,\n",
       "  0.34142962098121643,\n",
       "  0.34444838762283325,\n",
       "  0.340978741645813,\n",
       "  0.34206318855285645,\n",
       "  0.3430080711841583,\n",
       "  0.34148457646369934,\n",
       "  0.3416154086589813,\n",
       "  0.3450968265533447,\n",
       "  0.34393709897994995,\n",
       "  0.3419610857963562,\n",
       "  0.3424595892429352,\n",
       "  0.34074485301971436,\n",
       "  0.34034398198127747,\n",
       "  0.34293845295906067,\n",
       "  0.3406299650669098,\n",
       "  0.34089621901512146,\n",
       "  0.3408980071544647,\n",
       "  0.34089601039886475,\n",
       "  0.3408055007457733,\n",
       "  0.34141576290130615,\n",
       "  0.34216564893722534,\n",
       "  0.3394118547439575,\n",
       "  0.34448161721229553,\n",
       "  0.3425101041793823,\n",
       "  0.34114959836006165,\n",
       "  0.34348592162132263,\n",
       "  0.341157466173172,\n",
       "  0.34143775701522827,\n",
       "  0.3401118218898773,\n",
       "  0.34196197986602783,\n",
       "  0.3416546583175659,\n",
       "  0.3412570059299469,\n",
       "  0.3431079387664795,\n",
       "  0.340913325548172,\n",
       "  0.33977586030960083,\n",
       "  0.34218519926071167,\n",
       "  0.3431011140346527,\n",
       "  0.3427506685256958,\n",
       "  0.3412666320800781,\n",
       "  0.34232640266418457,\n",
       "  0.34238094091415405,\n",
       "  0.34055832028388977,\n",
       "  0.34029537439346313,\n",
       "  0.34039536118507385,\n",
       "  0.34081214666366577,\n",
       "  0.3380299508571625,\n",
       "  0.3421008586883545,\n",
       "  0.34311699867248535,\n",
       "  0.3395163416862488,\n",
       "  0.3408527076244354,\n",
       "  0.3402222692966461,\n",
       "  0.3406856954097748,\n",
       "  0.3450276553630829,\n",
       "  0.339580237865448,\n",
       "  0.34008079767227173,\n",
       "  0.3421509861946106,\n",
       "  0.3410685658454895,\n",
       "  0.3394852578639984,\n",
       "  0.34098488092422485,\n",
       "  0.34059634804725647,\n",
       "  0.34057939052581787,\n",
       "  0.34247347712516785,\n",
       "  0.3432546854019165,\n",
       "  0.33974689245224]}"
      ]
     },
     "execution_count": 32,
     "metadata": {},
     "output_type": "execute_result"
    }
   ],
   "source": [
    "history.history"
   ]
  },
  {
   "cell_type": "code",
   "execution_count": 33,
   "metadata": {},
   "outputs": [
    {
     "data": {
      "text/plain": [
       "[<matplotlib.lines.Line2D at 0x151f2be10>]"
      ]
     },
     "execution_count": 33,
     "metadata": {},
     "output_type": "execute_result"
    },
    {
     "data": {
      "image/png": "[encoded data removed]",
      "text/plain": [
       "<Figure size 640x480 with 1 Axes>"
      ]
     },
     "metadata": {},
     "output_type": "display_data"
    }
   ],
   "source": [
    "plt.plot(history.history['loss'])\n",
    "plt.plot(history.history['val_loss'])"
   ]
  },
  {
   "cell_type": "code",
   "execution_count": 34,
   "metadata": {},
   "outputs": [
    {
     "data": {
      "text/plain": [
       "[<matplotlib.lines.Line2D at 0x152b387d0>]"
      ]
     },
     "execution_count": 34,
     "metadata": {},
     "output_type": "execute_result"
    },
    {
     "data": {
      "image/png": "[encoded data removed]",
      "text/plain": [
       "<Figure size 640x480 with 1 Axes>"
      ]
     },
     "metadata": {},
     "output_type": "display_data"
    }
   ],
   "source": [
    "plt.plot(history.history['accuracy'])\n",
    "plt.plot(history.history['val_accuracy'])"
   ]
  },
  {
   "cell_type": "code",
   "execution_count": null,
   "metadata": {},
   "outputs": [],
   "source": []
  }
 ],
 "metadata": {
  "kernelspec": {
   "display_name": "venv",
   "language": "python",
   "name": "python3"
  },
  "language_info": {
   "codemirror_mode": {
    "name": "ipython",
    "version": 3
   },
   "file_extension": ".py",
   "mimetype": "text/x-python",
   "name": "python",
   "nbconvert_exporter": "python",
   "pygments_lexer": "ipython3",
   "version": "3.11.9"
  }
 },
 "nbformat": 4,
 "nbformat_minor": 2
}
