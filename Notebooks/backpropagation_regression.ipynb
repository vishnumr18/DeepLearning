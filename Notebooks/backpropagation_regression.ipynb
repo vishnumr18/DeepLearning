{
  "cells": [
    {
      "cell_type": "code",
      "execution_count": 1,
      "metadata": {
        "id": "lgnPvgw8DyOq"
      },
      "outputs": [],
      "source": [
        "import numpy as np\n",
        "import pandas as pd"
      ]
    },
    {
      "cell_type": "code",
      "execution_count": 2,
      "metadata": {
        "id": "iznsv0cPD4N2"
      },
      "outputs": [],
      "source": [
        "df = pd.DataFrame([[8,8,4],[7,9,5],[6,10,6],[5,12,7]], columns=['cgpa', 'profile_score', 'lpa'])"
      ]
    },
    {
      "cell_type": "code",
      "execution_count": 3,
      "metadata": {
        "colab": {
          "base_uri": "https://localhost:8080/",
          "height": 175
        },
        "id": "Icg8cssxEJ4U",
        "outputId": "faf04b08-f325-4e7c-eba6-e002fd3fbc9f"
      },
      "outputs": [
        {
          "data": {
            "text/html": [
              "<div>\n",
              "<style scoped>\n",
              "    .dataframe tbody tr th:only-of-type {\n",
              "        vertical-align: middle;\n",
              "    }\n",
              "\n",
              "    .dataframe tbody tr th {\n",
              "        vertical-align: top;\n",
              "    }\n",
              "\n",
              "    .dataframe thead th {\n",
              "        text-align: right;\n",
              "    }\n",
              "</style>\n",
              "<table border=\"1\" class=\"dataframe\">\n",
              "  <thead>\n",
              "    <tr style=\"text-align: right;\">\n",
              "      <th></th>\n",
              "      <th>cgpa</th>\n",
              "      <th>profile_score</th>\n",
              "      <th>lpa</th>\n",
              "    </tr>\n",
              "  </thead>\n",
              "  <tbody>\n",
              "    <tr>\n",
              "      <th>0</th>\n",
              "      <td>8</td>\n",
              "      <td>8</td>\n",
              "      <td>4</td>\n",
              "    </tr>\n",
              "    <tr>\n",
              "      <th>1</th>\n",
              "      <td>7</td>\n",
              "      <td>9</td>\n",
              "      <td>5</td>\n",
              "    </tr>\n",
              "    <tr>\n",
              "      <th>2</th>\n",
              "      <td>6</td>\n",
              "      <td>10</td>\n",
              "      <td>6</td>\n",
              "    </tr>\n",
              "    <tr>\n",
              "      <th>3</th>\n",
              "      <td>5</td>\n",
              "      <td>12</td>\n",
              "      <td>7</td>\n",
              "    </tr>\n",
              "  </tbody>\n",
              "</table>\n",
              "</div>"
            ],
            "text/plain": [
              "   cgpa  profile_score  lpa\n",
              "0     8              8    4\n",
              "1     7              9    5\n",
              "2     6             10    6\n",
              "3     5             12    7"
            ]
          },
          "execution_count": 3,
          "metadata": {},
          "output_type": "execute_result"
        }
      ],
      "source": [
        "df"
      ]
    },
    {
      "cell_type": "code",
      "execution_count": 4,
      "metadata": {
        "id": "gOL7f79VEKQn"
      },
      "outputs": [],
      "source": [
        "def initialize_parameters(layer_dims):\n",
        "\n",
        "  np.random.seed(3)\n",
        "  parameters = {}\n",
        "  L = len(layer_dims)\n",
        "\n",
        "  for l in range(1, L):\n",
        "\n",
        "    parameters['W' + str(l)] = np.ones((layer_dims[l-1], layer_dims[l]))*0.1\n",
        "    parameters['b' + str(l)] = np.zeros((layer_dims[l], 1))\n",
        "\n",
        "\n",
        "  return parameters"
      ]
    },
    {
      "cell_type": "code",
      "execution_count": 5,
      "metadata": {
        "colab": {
          "base_uri": "https://localhost:8080/"
        },
        "id": "VkduRBgNIp-z",
        "outputId": "c0c32750-846b-499c-fc16-9f542ad3cdd0"
      },
      "outputs": [
        {
          "data": {
            "text/plain": [
              "{'W1': array([[0.1, 0.1],\n",
              "        [0.1, 0.1]]),\n",
              " 'b1': array([[0.],\n",
              "        [0.]]),\n",
              " 'W2': array([[0.1],\n",
              "        [0.1]]),\n",
              " 'b2': array([[0.]])}"
            ]
          },
          "execution_count": 5,
          "metadata": {},
          "output_type": "execute_result"
        }
      ],
      "source": [
        "initialize_parameters([2,2,1])"
      ]
    },
    {
      "cell_type": "code",
      "execution_count": 6,
      "metadata": {
        "id": "ZghmdgJzEg0D"
      },
      "outputs": [],
      "source": [
        "def linear_forward(A_prev, W, b):\n",
        "\n",
        "  Z = np.dot(W.T, A_prev) + b\n",
        "\n",
        "  return Z"
      ]
    },
    {
      "cell_type": "code",
      "execution_count": 7,
      "metadata": {
        "id": "5n5DFL99Gacw"
      },
      "outputs": [],
      "source": [
        "# Forward Prop\n",
        "def L_layer_forward(X, parameters):\n",
        "\n",
        "  A = X\n",
        "  L = len(parameters) // 2                  # number of layers in the neural network\n",
        "\n",
        "  for l in range(1, L+1):\n",
        "    A_prev = A\n",
        "    Wl = parameters['W' + str(l)]\n",
        "    bl = parameters['b' + str(l)]\n",
        "    #print(\"A\"+str(l-1)+\": \", A_prev)\n",
        "    #print(\"W\"+str(l)+\": \", Wl)\n",
        "    #print(\"b\"+str(l)+\": \", bl)\n",
        "    #print(\"--\"*20)\n",
        "\n",
        "    A = linear_forward(A_prev, Wl, bl)\n",
        "    #print(\"A\"+str(l)+\": \", A)\n",
        "    #print(\"**\"*20)\n",
        "\n",
        "  return A,A_prev"
      ]
    },
    {
      "cell_type": "code",
      "execution_count": 8,
      "metadata": {
        "colab": {
          "base_uri": "https://localhost:8080/"
        },
        "id": "5ijULWqvJu0O",
        "outputId": "195c3602-d8a5-44a4-d224-278cd274a0ec"
      },
      "outputs": [],
      "source": [
        "X = df[['cgpa', 'profile_score']].values[0].reshape(2,1) # Shape(no of features, no. of training example)\n",
        "y = df[['lpa']].values[0][0]\n",
        "\n",
        "# Parameter initialization\n",
        "parameters = initialize_parameters([2,2,1])\n",
        "\n",
        "y_hat,A1 = L_layer_forward(X, parameters)"
      ]
    },
    {
      "cell_type": "code",
      "execution_count": 9,
      "metadata": {
        "id": "ZrhNecsGML3E"
      },
      "outputs": [],
      "source": [
        "y_hat = y_hat[0][0]"
      ]
    },
    {
      "cell_type": "code",
      "execution_count": 10,
      "metadata": {
        "colab": {
          "base_uri": "https://localhost:8080/"
        },
        "id": "fWPvGGQcJ-Wq",
        "outputId": "2700de8a-b50d-4183-f277-0b21a5210def"
      },
      "outputs": [
        {
          "data": {
            "text/plain": [
              "array([[1.6],\n",
              "       [1.6]])"
            ]
          },
          "execution_count": 10,
          "metadata": {},
          "output_type": "execute_result"
        }
      ],
      "source": [
        "A1"
      ]
    },
    {
      "cell_type": "code",
      "execution_count": 13,
      "metadata": {
        "id": "EQWgVKAyNIr2"
      },
      "outputs": [],
      "source": [
        "update_parameters(parameters,y,y_hat,A1,X)"
      ]
    },
    {
      "cell_type": "code",
      "execution_count": 14,
      "metadata": {
        "colab": {
          "base_uri": "https://localhost:8080/"
        },
        "id": "sTSNat7KNTm7",
        "outputId": "f3d3d349-c993-4d2f-a720-48e0e8433db9"
      },
      "outputs": [
        {
          "data": {
            "text/plain": [
              "{'W1': array([[0.10658137, 0.10658137],\n",
              "        [0.10658137, 0.10658137]]),\n",
              " 'b1': array([[0.00082267],\n",
              "        [0.00082267]]),\n",
              " 'W2': array([[0.111776],\n",
              "        [0.111776]]),\n",
              " 'b2': array([[0.119136]])}"
            ]
          },
          "execution_count": 14,
          "metadata": {},
          "output_type": "execute_result"
        }
      ],
      "source": [
        "parameters"
      ]
    },
    {
      "cell_type": "code",
      "execution_count": 15,
      "metadata": {
        "colab": {
          "base_uri": "https://localhost:8080/"
        },
        "id": "bT36dOGNNijU",
        "outputId": "050e03e6-b792-474e-b4ad-a41c07ab6687"
      },
      "outputs": [],
      "source": [
        "X = df[['cgpa', 'profile_score']].values[3].reshape(2,1) # Shape(no of features, no. of training example)\n",
        "y = df[['lpa']].values[3][0]\n",
        "\n",
        "y_hat,A1 = L_layer_forward(X, parameters)"
      ]
    },
    {
      "cell_type": "code",
      "execution_count": 16,
      "metadata": {
        "id": "kXN473kWNq2F"
      },
      "outputs": [
        {
          "name": "stderr",
          "output_type": "stream",
          "text": [
            "/var/folders/15/hcx9cgbn48z9wk5ngpns6jl40000gn/T/ipykernel_68454/332058445.py:2: DeprecationWarning: Conversion of an array with ndim > 0 to a scalar is deprecated, and will error in future. Ensure you extract a single element from your array before performing this operation. (Deprecated NumPy 1.25.)\n",
            "  parameters['W2'][0][0] = parameters['W2'][0][0] + (0.001 * 2 * (y - y_hat)*A1[0][0])\n",
            "/var/folders/15/hcx9cgbn48z9wk5ngpns6jl40000gn/T/ipykernel_68454/332058445.py:3: DeprecationWarning: Conversion of an array with ndim > 0 to a scalar is deprecated, and will error in future. Ensure you extract a single element from your array before performing this operation. (Deprecated NumPy 1.25.)\n",
            "  parameters['W2'][1][0] = parameters['W2'][1][0] + (0.001 * 2 * (y - y_hat)*A1[1][0])\n",
            "/var/folders/15/hcx9cgbn48z9wk5ngpns6jl40000gn/T/ipykernel_68454/332058445.py:4: DeprecationWarning: Conversion of an array with ndim > 0 to a scalar is deprecated, and will error in future. Ensure you extract a single element from your array before performing this operation. (Deprecated NumPy 1.25.)\n",
            "  parameters['b2'][0][0] = parameters['W2'][1][0] + (0.001 * 2 * (y - y_hat))\n",
            "/var/folders/15/hcx9cgbn48z9wk5ngpns6jl40000gn/T/ipykernel_68454/332058445.py:6: DeprecationWarning: Conversion of an array with ndim > 0 to a scalar is deprecated, and will error in future. Ensure you extract a single element from your array before performing this operation. (Deprecated NumPy 1.25.)\n",
            "  parameters['W1'][0][0] = parameters['W1'][0][0] + (0.001 * 2 * (y - y_hat)*parameters['W2'][0][0]*X[0][0])\n",
            "/var/folders/15/hcx9cgbn48z9wk5ngpns6jl40000gn/T/ipykernel_68454/332058445.py:7: DeprecationWarning: Conversion of an array with ndim > 0 to a scalar is deprecated, and will error in future. Ensure you extract a single element from your array before performing this operation. (Deprecated NumPy 1.25.)\n",
            "  parameters['W1'][0][1] = parameters['W1'][0][1] + (0.001 * 2 * (y - y_hat)*parameters['W2'][0][0]*X[1][0])\n",
            "/var/folders/15/hcx9cgbn48z9wk5ngpns6jl40000gn/T/ipykernel_68454/332058445.py:8: DeprecationWarning: Conversion of an array with ndim > 0 to a scalar is deprecated, and will error in future. Ensure you extract a single element from your array before performing this operation. (Deprecated NumPy 1.25.)\n",
            "  parameters['b1'][0][0] = parameters['b1'][0][0] + (0.001 * 2 * (y - y_hat)*parameters['W2'][0][0])\n",
            "/var/folders/15/hcx9cgbn48z9wk5ngpns6jl40000gn/T/ipykernel_68454/332058445.py:10: DeprecationWarning: Conversion of an array with ndim > 0 to a scalar is deprecated, and will error in future. Ensure you extract a single element from your array before performing this operation. (Deprecated NumPy 1.25.)\n",
            "  parameters['W1'][1][0] = parameters['W1'][1][0] + (0.001 * 2 * (y - y_hat)*parameters['W2'][1][0]*X[0][0])\n",
            "/var/folders/15/hcx9cgbn48z9wk5ngpns6jl40000gn/T/ipykernel_68454/332058445.py:11: DeprecationWarning: Conversion of an array with ndim > 0 to a scalar is deprecated, and will error in future. Ensure you extract a single element from your array before performing this operation. (Deprecated NumPy 1.25.)\n",
            "  parameters['W1'][1][1] = parameters['W1'][1][1] + (0.001 * 2 * (y - y_hat)*parameters['W2'][1][0]*X[1][0])\n",
            "/var/folders/15/hcx9cgbn48z9wk5ngpns6jl40000gn/T/ipykernel_68454/332058445.py:12: DeprecationWarning: Conversion of an array with ndim > 0 to a scalar is deprecated, and will error in future. Ensure you extract a single element from your array before performing this operation. (Deprecated NumPy 1.25.)\n",
            "  parameters['b1'][1][0] = parameters['b1'][1][0] + (0.001 * 2 * (y - y_hat)*parameters['W2'][1][0])\n"
          ]
        }
      ],
      "source": [
        "update_parameters(parameters,y,y_hat,A1,X)"
      ]
    },
    {
      "cell_type": "code",
      "execution_count": 17,
      "metadata": {
        "colab": {
          "base_uri": "https://localhost:8080/"
        },
        "id": "hjKso9pQNti8",
        "outputId": "56ff54b1-5b11-44d2-974e-849989291bad"
      },
      "outputs": [
        {
          "data": {
            "text/plain": [
              "{'W1': array([[0.11533984, 0.1276017 ],\n",
              "        [0.11533984, 0.1276017 ]]),\n",
              " 'b1': array([[0.00257437],\n",
              "        [0.00257437]]),\n",
              " 'W2': array([[0.13525283],\n",
              "        [0.13525283]]),\n",
              " 'b2': array([[0.14820409]])}"
            ]
          },
          "execution_count": 17,
          "metadata": {},
          "output_type": "execute_result"
        }
      ],
      "source": [
        "parameters"
      ]
    },
    {
      "cell_type": "code",
      "execution_count": 12,
      "metadata": {
        "id": "zyWoiZWYL8ft"
      },
      "outputs": [],
      "source": [
        "def update_parameters(parameters,y,y_hat,A1,X):\n",
        "  parameters['W2'][0][0] = parameters['W2'][0][0] + (0.001 * 2 * (y - y_hat)*A1[0][0])\n",
        "  parameters['W2'][1][0] = parameters['W2'][1][0] + (0.001 * 2 * (y - y_hat)*A1[1][0])\n",
        "  parameters['b2'][0][0] = parameters['W2'][1][0] + (0.001 * 2 * (y - y_hat))\n",
        "\n",
        "  parameters['W1'][0][0] = parameters['W1'][0][0] + (0.001 * 2 * (y - y_hat)*parameters['W2'][0][0]*X[0][0])\n",
        "  parameters['W1'][0][1] = parameters['W1'][0][1] + (0.001 * 2 * (y - y_hat)*parameters['W2'][0][0]*X[1][0])\n",
        "  parameters['b1'][0][0] = parameters['b1'][0][0] + (0.001 * 2 * (y - y_hat)*parameters['W2'][0][0])\n",
        "\n",
        "  parameters['W1'][1][0] = parameters['W1'][1][0] + (0.001 * 2 * (y - y_hat)*parameters['W2'][1][0]*X[0][0])\n",
        "  parameters['W1'][1][1] = parameters['W1'][1][1] + (0.001 * 2 * (y - y_hat)*parameters['W2'][1][0]*X[1][0])\n",
        "  parameters['b1'][1][0] = parameters['b1'][1][0] + (0.001 * 2 * (y - y_hat)*parameters['W2'][1][0])"
      ]
    },
    {
      "cell_type": "code",
      "execution_count": 18,
      "metadata": {
        "colab": {
          "base_uri": "https://localhost:8080/"
        },
        "id": "y-gTVDlsYoFm",
        "outputId": "f594df70-332f-4144-e903-870185a4a1a5"
      },
      "outputs": [
        {
          "data": {
            "text/plain": [
              "{'W1': array([[0.10658137, 0.10658137],\n",
              "        [0.10658137, 0.10658137]]),\n",
              " 'b1': array([[0.00082267],\n",
              "        [0.00082267]]),\n",
              " 'W2': array([[0.111776],\n",
              "        [0.111776]]),\n",
              " 'b2': array([[0.119136]])}"
            ]
          },
          "execution_count": 18,
          "metadata": {},
          "output_type": "execute_result"
        }
      ],
      "source": [
        "X = df[['cgpa', 'profile_score']].values[0].reshape(2,1) # Shape(no of features, no. of training example)\n",
        "y = df[['lpa']].values[0][0]\n",
        "\n",
        "# Parameter initialization\n",
        "parameters = initialize_parameters([2,2,1])\n",
        "\n",
        "y_hat,A1 = L_layer_forward(X,parameters)\n",
        "y_hat = y_hat[0][0]\n",
        "\n",
        "update_parameters(parameters,y,y_hat,A1,X)\n",
        "\n",
        "parameters"
      ]
    },
    {
      "cell_type": "code",
      "execution_count": 19,
      "metadata": {
        "colab": {
          "base_uri": "https://localhost:8080/"
        },
        "id": "jgrNh8YGexbz",
        "outputId": "8518ae78-89b3-49aa-9f31-efe95ac3e949"
      },
      "outputs": [
        {
          "data": {
            "text/plain": [
              "{'W1': array([[0.11458955, 0.1168776 ],\n",
              "        [0.11458955, 0.1168776 ]]),\n",
              " 'b1': array([[0.0019667],\n",
              "        [0.0019667]]),\n",
              " 'W2': array([[0.12712927],\n",
              "        [0.12712927]]),\n",
              " 'b2': array([[0.13612818]])}"
            ]
          },
          "execution_count": 19,
          "metadata": {},
          "output_type": "execute_result"
        }
      ],
      "source": [
        "X = df[['cgpa', 'profile_score']].values[1].reshape(2,1) # Shape(no of features, no. of training exaplme)\n",
        "y = df[['lpa']].values[1][0]\n",
        "\n",
        "y_hat,A1 = L_layer_forward(X,parameters)\n",
        "y_hat = y_hat[0][0]\n",
        "\n",
        "update_parameters(parameters,y,y_hat,A1,X)\n",
        "\n",
        "parameters"
      ]
    },
    {
      "cell_type": "code",
      "execution_count": 20,
      "metadata": {
        "colab": {
          "base_uri": "https://localhost:8080/"
        },
        "id": "7QAO9dunfCPn",
        "outputId": "8b5f3eb6-7d5e-4454-86ac-67e7d91ed899"
      },
      "outputs": [
        {
          "data": {
            "text/plain": [
              "{'W1': array([[0.12409711, 0.13272353],\n",
              "        [0.12412266, 0.13276611]]),\n",
              " 'b1': array([[0.00355129],\n",
              "        [0.00355555]]),\n",
              " 'W2': array([[0.14692424],\n",
              "        [0.14731907]]),\n",
              " 'b2': array([[0.15810417]])}"
            ]
          },
          "execution_count": 20,
          "metadata": {},
          "output_type": "execute_result"
        }
      ],
      "source": [
        "X = df[['cgpa', 'profile_score']].values[2].reshape(2,1) # Shape(no of features, no. of training exaplme)\n",
        "y = df[['lpa']].values[2][0]\n",
        "\n",
        "y_hat,A1 = L_layer_forward(X,parameters)\n",
        "y_hat = y_hat[0][0]\n",
        "\n",
        "update_parameters(parameters,y,y_hat,A1,X)\n",
        "\n",
        "parameters"
      ]
    },
    {
      "cell_type": "code",
      "execution_count": 21,
      "metadata": {
        "colab": {
          "base_uri": "https://localhost:8080/"
        },
        "id": "vog84hecfGI7",
        "outputId": "09e6fcb3-2534-468f-e5f5-89e4743097d4"
      },
      "outputs": [
        {
          "data": {
            "text/plain": [
              "{'W1': array([[0.13482804, 0.15847776],\n",
              "        [0.1349909 , 0.15884991]]),\n",
              " 'b1': array([[0.00569748],\n",
              "        [0.0057292 ]]),\n",
              " 'W2': array([[0.17312488],\n",
              "        [0.17534027]]),\n",
              " 'b2': array([[0.18773702]])}"
            ]
          },
          "execution_count": 21,
          "metadata": {},
          "output_type": "execute_result"
        }
      ],
      "source": [
        "X = df[['cgpa', 'profile_score']].values[3].reshape(2,1) # Shape(no of features, no. of training exaplme)\n",
        "y = df[['lpa']].values[3][0]\n",
        "\n",
        "y_hat,A1 = L_layer_forward(X,parameters)\n",
        "y_hat = y_hat[0][0]\n",
        "\n",
        "update_parameters(parameters,y,y_hat,A1,X)\n",
        "\n",
        "parameters"
      ]
    },
    {
      "cell_type": "code",
      "execution_count": 22,
      "metadata": {
        "colab": {
          "base_uri": "https://localhost:8080/"
        },
        "id": "S-ZcZmJafwkc",
        "outputId": "8af42b77-b968-4b76-e598-8e6006a56219"
      },
      "outputs": [
        {
          "name": "stdout",
          "output_type": "stream",
          "text": [
            "Epoch -  1 Loss -  25.321744156025517\n",
            "Epoch -  2 Loss -  18.320004165722047\n",
            "Epoch -  3 Loss -  9.473661050729628\n",
            "Epoch -  4 Loss -  3.2520938634031613\n",
            "Epoch -  5 Loss -  1.3407132589299962\n"
          ]
        },
        {
          "data": {
            "text/plain": [
              "{'W1': array([[0.26507636, 0.38558861],\n",
              "        [0.27800387, 0.40980287]]),\n",
              " 'b1': array([[0.02749056],\n",
              "        [0.02974394]]),\n",
              " 'W2': array([[0.41165744],\n",
              "        [0.48302736]]),\n",
              " 'b2': array([[0.48646246]])}"
            ]
          },
          "execution_count": 22,
          "metadata": {},
          "output_type": "execute_result"
        }
      ],
      "source": [
        "# epochs implementation\n",
        "\n",
        "parameters = initialize_parameters([2,2,1])\n",
        "epochs = 5\n",
        "\n",
        "for i in range(epochs):\n",
        "\n",
        "  Loss = []\n",
        "\n",
        "  for j in range(df.shape[0]):\n",
        "\n",
        "    X = df[['cgpa', 'profile_score']].values[j].reshape(2,1) # Shape(no of features, no. of training example)\n",
        "    y = df[['lpa']].values[j][0]\n",
        "\n",
        "    # Parameter initialization\n",
        "\n",
        "\n",
        "    y_hat,A1 = L_layer_forward(X,parameters)\n",
        "    y_hat = y_hat[0][0]\n",
        "\n",
        "    update_parameters(parameters,y,y_hat,A1,X)\n",
        "\n",
        "    Loss.append((y-y_hat)**2)\n",
        "\n",
        "  print('Epoch - ',i+1,'Loss - ',np.array(Loss).mean())\n",
        "\n",
        "parameters"
      ]
    },
    {
      "cell_type": "code",
      "execution_count": null,
      "metadata": {
        "id": "R_J6XCJbU_x5"
      },
      "outputs": [],
      "source": []
    },
    {
      "cell_type": "code",
      "execution_count": null,
      "metadata": {},
      "outputs": [],
      "source": []
    }
  ],
  "metadata": {
    "colab": {
      "provenance": []
    },
    "kernelspec": {
      "display_name": "venv",
      "language": "python",
      "name": "python3"
    },
    "language_info": {
      "codemirror_mode": {
        "name": "ipython",
        "version": 3
      },
      "file_extension": ".py",
      "mimetype": "text/x-python",
      "name": "python",
      "nbconvert_exporter": "python",
      "pygments_lexer": "ipython3",
      "version": "3.11.9"
    }
  },
  "nbformat": 4,
  "nbformat_minor": 0
}
